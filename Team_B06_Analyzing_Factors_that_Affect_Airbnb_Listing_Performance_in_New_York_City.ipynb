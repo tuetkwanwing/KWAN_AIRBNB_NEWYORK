{
  "cells": [
    {
      "cell_type": "markdown",
      "id": "20876db5-f5b5-49bc-a810-9bb393e0c2bf",
      "metadata": {
        "jp-MarkdownHeadingCollapsed": true,
        "tags": [],
        "id": "20876db5-f5b5-49bc-a810-9bb393e0c2bf"
      },
      "source": [
        "\n",
        "\n",
        "## Analyzing Factors that Affect Airbnb Listing Performance in New York City\n",
        "\n",
        "<font size='3'><b>Objective - </b> In less than two decades, Airbnb has become one of the major platforms with abundant resources of accommodation offerings. While it continuously maps the needs of guests and hosts, there are evidently some listings or hosts that have higher performance/popularity than others. Therefore, we use this dataset which includes listings’ activity and record in New York, so that we can analyze and visualize contributing factors on host performances. \n",
        "\n",
        "\n",
        "<font size='3'><b>Introduction: motivation and goal </b>  \n",
        " 1. Motivation: not only that this analysis might shed some light on hosts’ strategy for their listings, but also that the results of our analysis can help customers to stay in a better location and experience at a more affordable price.\n",
        " 2. Goal: Analyzing different factors about how to contributed to a successful Airbnb host, and what can be done to enhance the experience, customer reviews and attract more customers.\n",
        "\n",
        "<font size='3'><b>A report summary</b> \n",
        " - Our project starts with basic and general data exploration, during which we would also do basic data cleaning for a more efficient analysis in later phases. We will present to the audience the descriptions of columns in our dataset. Subsequently, we proceed to look more detailedly at the features of listings, such as geographic distribution, room type, host verification, and availability of listings. After that, we construct scenarios corresponding to different needs of the guests in reality, based on which we focus on flexibility, safety and price level. In addition, the project explores the most preferred and top-priced Airbnb listings probably for luxury travelers using some specific filters resulting from the project preceding analysis. Meanwhile, this particular scenario will reflect some interesting findings. Lastly, we will make a conclusion from which hosts might gain valuable insights, and also reflect on some limitations, which will be followed by the link and screenshot of our dashboard for visualizations."
      ]
    },
    {
      "cell_type": "markdown",
      "id": "011b7c40-d032-46aa-a259-88ab06418555",
      "metadata": {
        "jp-MarkdownHeadingCollapsed": true,
        "tags": [],
        "id": "011b7c40-d032-46aa-a259-88ab06418555"
      },
      "source": [
        "## 1. Overview of dataset\n",
        "   <b>Dataset:</b> \n",
        "   New York Airbnb Open Data [Kaggle Link](https://www.kaggle.com/datasets/arianazmoudeh/airbnbopendata)\n",
        "\n",
        "   Original source: Inside Airbnb http://insideairbnb.com/explore/\n",
        "\n",
        "### 1.1 Original Dataset and Data Cleaning "
      ]
    },
    {
      "cell_type": "markdown",
      "id": "7349cb4f-953a-4671-9aff-2e3ea06323bd",
      "metadata": {
        "id": "7349cb4f-953a-4671-9aff-2e3ea06323bd"
      },
      "source": [
        "Note: In order to upload our raw dataset to Bigquery, we revised the column name with underscores manually.\n",
        "\n",
        "We have done the data cleaning on GCP through Bigquery. Belew are our code for data cleaning for reference. "
      ]
    },
    {
      "cell_type": "markdown",
      "id": "68d24da4-2bea-4185-b507-f6dadbe4151a",
      "metadata": {
        "id": "68d24da4-2bea-4185-b507-f6dadbe4151a"
      },
      "source": [
        "--Generate preview for our original dataset, which includes 26 columns which includes 20 features for each unique host/listing ID.  \n",
        "     \n",
        "    %%bigquery\n",
        "    SELECT (*) FROM `ba775-team6.Airbnb_Newyork.RAW_AIRBNB`\n",
        "    LIMIT 5\n",
        " "
      ]
    },
    {
      "cell_type": "markdown",
      "id": "5bfd5dc1-286b-4aaf-a052-08df7eefc593",
      "metadata": {
        "id": "5bfd5dc1-286b-4aaf-a052-08df7eefc593"
      },
      "source": [
        "-- To narrow down our exploration into factors that affects Airbnb performance on review score and price, we have modified our table by cleaning up the data and removing unnessary columns. \n",
        "\n",
        "--drop unnessary column for our analysis\n",
        "\n",
        "    %%bigquery\n",
        "    ALTER TABLE `ba775-team6.Airbnb_Newyork.RAW_AIRBNB`\n",
        "    DROP COLUMN country; \n",
        "\n",
        "--detect data anomalies in column 'neighbourhood group'\n",
        "\n",
        "    %%bigquery\n",
        "    SELECT DISTINCT neighbourhood_group\n",
        "    FROM ba775-team6.Airbnb_Newyork.RAW_AIRBNB_DS;\n"
      ]
    },
    {
      "cell_type": "markdown",
      "id": "6a48a921-8460-4652-b946-485515b2beae",
      "metadata": {
        "id": "6a48a921-8460-4652-b946-485515b2beae"
      },
      "source": [
        "--correct neighbourhood_group with mis-spelling words. \n",
        "    \n",
        "    %%bigquery\n",
        "    UPDATE `ba775-team6.Airbnb_Newyork.RAW_DATA_AIRBNB`\n",
        "    SET neighbourhood_group = 'Brooklyn' \n",
        "    WHERE neighbourhood_group = 'brookln';\n",
        "    \n",
        "    %%bigquery\n",
        "    UPDATE `ba775-team6.Airbnb_Newyork.RAW_DATA_AIRBNB`\n",
        "    SET neighbourhood_group = 'Manhattan' \n",
        "    WHERE neighbourhood_group = 'manhatan'; \n"
      ]
    },
    {
      "cell_type": "markdown",
      "id": "ea939027-0b6a-4d98-92ef-2874f6334cd3",
      "metadata": {
        "id": "ea939027-0b6a-4d98-92ef-2874f6334cd3"
      },
      "source": [
        "![Screen%20Shot%202022-10-19%20at%2012.30.46%20PM.png](attachment:Screen%20Shot%202022-10-19%20at%2012.30.46%20PM.png)"
      ]
    },
    {
      "cell_type": "markdown",
      "id": "955663dc-8576-44de-b58c-d8b5deebcdac",
      "metadata": {
        "id": "955663dc-8576-44de-b58c-d8b5deebcdac"
      },
      "source": [
        "As you can see, we fix the name typo in 'neighbourhood_group' column by replacing 'manhatan' with 'Manhattan' and replacing 'brookln' with 'Brooklyn'"
      ]
    },
    {
      "cell_type": "markdown",
      "id": "7b9e8df3-ad00-46dd-8ba5-1dca3884793f",
      "metadata": {
        "id": "7b9e8df3-ad00-46dd-8ba5-1dca3884793f"
      },
      "source": [
        "### 1.2 Cleaned Dataset Preview"
      ]
    },
    {
      "cell_type": "markdown",
      "id": "951f3d42-4d6d-47c3-993b-89207e049867",
      "metadata": {
        "id": "951f3d42-4d6d-47c3-993b-89207e049867"
      },
      "source": [
        "In bigquery, we create a new table for a copy of our cleaned dataset. Here is the reference for code. \n",
        "\n",
        "    %%bigquery\n",
        "    CREATE OR REPLACE `ba775-team6.Airbnb_Newyork.bnb1`\n",
        "    AS \n",
        "    SELECT (*)\n",
        "    FROM `ba775-team6.Airbnb_Newyork.RAW_DATA_AIRBNB`;"
      ]
    },
    {
      "cell_type": "markdown",
      "id": "ec64ec9f-44c5-4944-8fac-9aa741a29aa9",
      "metadata": {
        "id": "ec64ec9f-44c5-4944-8fac-9aa741a29aa9"
      },
      "source": [
        "Preview -- "
      ]
    },
    {
      "cell_type": "code",
      "execution_count": null,
      "id": "cfaced98-34d7-4700-94bf-8e206d626a4e",
      "metadata": {
        "id": "cfaced98-34d7-4700-94bf-8e206d626a4e",
        "outputId": "53bfbfa0-3aa3-4017-ae20-d0ccf1b218f1"
      },
      "outputs": [
        {
          "name": "stderr",
          "output_type": "stream",
          "text": [
            "Query complete after 0.00s: 100%|██████████| 1/1 [00:00<00:00, 445.68query/s]                          \n",
            "Downloading: 100%|██████████| 5/5 [00:01<00:00,  3.32rows/s]\n"
          ]
        },
        {
          "data": {
            "text/html": [
              "<div>\n",
              "<style scoped>\n",
              "    .dataframe tbody tr th:only-of-type {\n",
              "        vertical-align: middle;\n",
              "    }\n",
              "\n",
              "    .dataframe tbody tr th {\n",
              "        vertical-align: top;\n",
              "    }\n",
              "\n",
              "    .dataframe thead th {\n",
              "        text-align: right;\n",
              "    }\n",
              "</style>\n",
              "<table border=\"1\" class=\"dataframe\">\n",
              "  <thead>\n",
              "    <tr style=\"text-align: right;\">\n",
              "      <th></th>\n",
              "      <th>id</th>\n",
              "      <th>name</th>\n",
              "      <th>host_id</th>\n",
              "      <th>host_identity_verified</th>\n",
              "      <th>host_name</th>\n",
              "      <th>neighbourhood_group</th>\n",
              "      <th>neighbourhood</th>\n",
              "      <th>lat</th>\n",
              "      <th>long</th>\n",
              "      <th>instant_bookable</th>\n",
              "      <th>...</th>\n",
              "      <th>service_fee</th>\n",
              "      <th>minimum_nights</th>\n",
              "      <th>number_of_reviews</th>\n",
              "      <th>last_review</th>\n",
              "      <th>reviews_per_month</th>\n",
              "      <th>review_rate_number</th>\n",
              "      <th>calculated_host_listings_count</th>\n",
              "      <th>availability_365</th>\n",
              "      <th>house_rules</th>\n",
              "      <th>price_relative_to_average</th>\n",
              "    </tr>\n",
              "  </thead>\n",
              "  <tbody>\n",
              "    <tr>\n",
              "      <th>0</th>\n",
              "      <td>4249965</td>\n",
              "      <td>Two bedroom in Prime East Village</td>\n",
              "      <td>28961369403</td>\n",
              "      <td>verified</td>\n",
              "      <td>Jc</td>\n",
              "      <td>Manhattan</td>\n",
              "      <td>East Village</td>\n",
              "      <td>40.73045</td>\n",
              "      <td>-73.98392</td>\n",
              "      <td>False</td>\n",
              "      <td>...</td>\n",
              "      <td>27.0</td>\n",
              "      <td>4</td>\n",
              "      <td>8</td>\n",
              "      <td>2018-12-14</td>\n",
              "      <td>0.19</td>\n",
              "      <td>5</td>\n",
              "      <td>2</td>\n",
              "      <td>96</td>\n",
              "      <td>None</td>\n",
              "      <td>NaN</td>\n",
              "    </tr>\n",
              "    <tr>\n",
              "      <th>1</th>\n",
              "      <td>8463461</td>\n",
              "      <td>Peaceful Artist Bedroomâ€”Just 30 Min to Manha...</td>\n",
              "      <td>78613255533</td>\n",
              "      <td>verified</td>\n",
              "      <td>Ksenia &amp; Masha</td>\n",
              "      <td>Brooklyn</td>\n",
              "      <td>Bedford-Stuyvesant</td>\n",
              "      <td>40.67762</td>\n",
              "      <td>-73.91590</td>\n",
              "      <td>True</td>\n",
              "      <td>...</td>\n",
              "      <td>171.0</td>\n",
              "      <td>3</td>\n",
              "      <td>69</td>\n",
              "      <td>2019-01-19</td>\n",
              "      <td>1.70</td>\n",
              "      <td>5</td>\n",
              "      <td>6</td>\n",
              "      <td>269</td>\n",
              "      <td>Please be respectful, Thank you !</td>\n",
              "      <td>NaN</td>\n",
              "    </tr>\n",
              "    <tr>\n",
              "      <th>2</th>\n",
              "      <td>8511511</td>\n",
              "      <td>Sunny Cozy Private Room in East Williamsburg</td>\n",
              "      <td>5062228697</td>\n",
              "      <td>verified</td>\n",
              "      <td>J</td>\n",
              "      <td>Brooklyn</td>\n",
              "      <td>Williamsburg</td>\n",
              "      <td>40.70750</td>\n",
              "      <td>-73.94055</td>\n",
              "      <td>True</td>\n",
              "      <td>...</td>\n",
              "      <td>NaN</td>\n",
              "      <td>1</td>\n",
              "      <td>29</td>\n",
              "      <td>2019-04-06</td>\n",
              "      <td>0.77</td>\n",
              "      <td>2</td>\n",
              "      <td>3</td>\n",
              "      <td>244</td>\n",
              "      <td>Our family will be present in the same house, ...</td>\n",
              "      <td>NaN</td>\n",
              "    </tr>\n",
              "    <tr>\n",
              "      <th>3</th>\n",
              "      <td>4251069</td>\n",
              "      <td>LG GARDEN Apt ON Sunset Park, on41ST near 6th Ave</td>\n",
              "      <td>38802469252</td>\n",
              "      <td>unconfirmed</td>\n",
              "      <td>Katie</td>\n",
              "      <td>Brooklyn</td>\n",
              "      <td>Sunset Park</td>\n",
              "      <td>40.65031</td>\n",
              "      <td>-74.00239</td>\n",
              "      <td>True</td>\n",
              "      <td>...</td>\n",
              "      <td>218.0</td>\n",
              "      <td>2</td>\n",
              "      <td>51</td>\n",
              "      <td>2019-01-07</td>\n",
              "      <td>0.89</td>\n",
              "      <td>4</td>\n",
              "      <td>1</td>\n",
              "      <td>65</td>\n",
              "      <td>None</td>\n",
              "      <td>NaN</td>\n",
              "    </tr>\n",
              "    <tr>\n",
              "      <th>4</th>\n",
              "      <td>4345513</td>\n",
              "      <td>Prime East Village One Bedroom Apt!</td>\n",
              "      <td>22376332748</td>\n",
              "      <td>verified</td>\n",
              "      <td>Amanda</td>\n",
              "      <td>Manhattan</td>\n",
              "      <td>East Village</td>\n",
              "      <td>40.72847</td>\n",
              "      <td>-73.98682</td>\n",
              "      <td>False</td>\n",
              "      <td>...</td>\n",
              "      <td>149.0</td>\n",
              "      <td>5</td>\n",
              "      <td>3</td>\n",
              "      <td>2015-03-08</td>\n",
              "      <td>0.05</td>\n",
              "      <td>1</td>\n",
              "      <td>1</td>\n",
              "      <td>415</td>\n",
              "      <td>No Smoking</td>\n",
              "      <td>NaN</td>\n",
              "    </tr>\n",
              "  </tbody>\n",
              "</table>\n",
              "<p>5 rows × 24 columns</p>\n",
              "</div>"
            ],
            "text/plain": [
              "        id                                               name      host_id  \\\n",
              "0  4249965                  Two bedroom in Prime East Village  28961369403   \n",
              "1  8463461  Peaceful Artist Bedroomâ€”Just 30 Min to Manha...  78613255533   \n",
              "2  8511511       Sunny Cozy Private Room in East Williamsburg   5062228697   \n",
              "3  4251069  LG GARDEN Apt ON Sunset Park, on41ST near 6th Ave  38802469252   \n",
              "4  4345513                Prime East Village One Bedroom Apt!  22376332748   \n",
              "\n",
              "  host_identity_verified       host_name neighbourhood_group  \\\n",
              "0               verified              Jc           Manhattan   \n",
              "1               verified  Ksenia & Masha            Brooklyn   \n",
              "2               verified               J            Brooklyn   \n",
              "3            unconfirmed           Katie            Brooklyn   \n",
              "4               verified          Amanda           Manhattan   \n",
              "\n",
              "        neighbourhood       lat      long  instant_bookable  ... service_fee  \\\n",
              "0        East Village  40.73045 -73.98392             False  ...        27.0   \n",
              "1  Bedford-Stuyvesant  40.67762 -73.91590              True  ...       171.0   \n",
              "2        Williamsburg  40.70750 -73.94055              True  ...         NaN   \n",
              "3         Sunset Park  40.65031 -74.00239              True  ...       218.0   \n",
              "4        East Village  40.72847 -73.98682             False  ...       149.0   \n",
              "\n",
              "  minimum_nights  number_of_reviews  last_review  reviews_per_month  \\\n",
              "0              4                  8   2018-12-14               0.19   \n",
              "1              3                 69   2019-01-19               1.70   \n",
              "2              1                 29   2019-04-06               0.77   \n",
              "3              2                 51   2019-01-07               0.89   \n",
              "4              5                  3   2015-03-08               0.05   \n",
              "\n",
              "   review_rate_number  calculated_host_listings_count availability_365  \\\n",
              "0                   5                               2               96   \n",
              "1                   5                               6              269   \n",
              "2                   2                               3              244   \n",
              "3                   4                               1               65   \n",
              "4                   1                               1              415   \n",
              "\n",
              "                                         house_rules  \\\n",
              "0                                               None   \n",
              "1                  Please be respectful, Thank you !   \n",
              "2  Our family will be present in the same house, ...   \n",
              "3                                               None   \n",
              "4                                         No Smoking   \n",
              "\n",
              "   price_relative_to_average  \n",
              "0                        NaN  \n",
              "1                        NaN  \n",
              "2                        NaN  \n",
              "3                        NaN  \n",
              "4                        NaN  \n",
              "\n",
              "[5 rows x 24 columns]"
            ]
          },
          "execution_count": 60,
          "metadata": {},
          "output_type": "execute_result"
        }
      ],
      "source": [
        "%%bigquery\n",
        "SELECT *\n",
        "FROM `ba775-team6.Airbnb_Newyork.bnb1`\n",
        "LIMIT 5"
      ]
    },
    {
      "cell_type": "markdown",
      "id": "7834ccdf-9038-404b-ac79-d8edc03387d9",
      "metadata": {
        "id": "7834ccdf-9038-404b-ac79-d8edc03387d9"
      },
      "source": [
        "### 1.3 Data Description\n",
        "- id: Airbnb unique identifer for the listing\n",
        "- name: name of the listing\n",
        "- host_id: Airbnb unique identifer for the host\n",
        "- host_identity_verified: Airbnb host identity verification \n",
        "- host_name: name of the host, usually just the first name\n",
        "- neighbourhood_group: listing location by different boroughs in New York city\n",
        "- neighbourhood: listing location by different neighborhood in different boroughs\n",
        "- lat: latitude recorded using the World Geodetic System (WGS84) projection\n",
        "- long:  longitude recorded using the World Geodetic System (WGS84) projection\n",
        "- instant_bookable: [t=true; f=false]. Whether the guest can automatically book the listing without the host requiring to accept their booking request. \n",
        "- cancellation_policy: cancellation policies are categorized into the following three descriptions:\n",
        "    - flexible: cancel until 24 hr before check-in for a full refund\n",
        "    - moderate: cancel until until 5 days before check-in for a full refund\n",
        "    - strict: To receive a full refund, guests must cancel within 48 hours of booking, and the cancellation must occur at least 14 days before check-in; If cancellation happens between 7 and 14 days before check-in, guests are required to paid 50% for all nights\n",
        "- room_type: all homes are grouped into the following three room types: \n",
        "    - entire place \n",
        "    - private room\n",
        "    - shared room\n",
        "- construction_year: the year when the building of a particular listing was constructed\n",
        "- price: daily price in local currency\n",
        "- service_fee: a fee calculated from the booking subtotal, which varies based on a variety of factors and is shown during checkout\n",
        "- minimum_nights: minimum number of night stay for the listing (calendar rules may be different)\n",
        "- number_of_reviews: the number of reviews the listing has\n",
        "- review_rate_number: the review rate score shown on the listing; an indicator of host’s performance\n",
        "- availability_365: the number of days the facility is available to be booked in the future 365 days; an indicator of host’s performance\n",
        "- house_rules: set by hosts; the rules are expected to be met by guests \n",
        "\n",
        "- price_relative_to_average: It is a new column that we add based on our calculation for the price of a particular listing divided by average price and different room type. Further explanation will be provided in section 3.1.3"
      ]
    },
    {
      "cell_type": "markdown",
      "id": "662db83c-7ee0-43f0-a20c-e3cf5c68ce60",
      "metadata": {
        "jp-MarkdownHeadingCollapsed": true,
        "tags": [],
        "id": "662db83c-7ee0-43f0-a20c-e3cf5c68ce60"
      },
      "source": [
        "## 2. Listing Features Exploration\n",
        "Clarification on listing features\n",
        "- We use <u>review</u> as an indicator of host performance according to consumer experience. In this way, we want to gain  insight from consumer level in order to help host improve their listing performance. \n",
        "    - In particular, <b>review score</b> reflects an overall average of cusomter experience on the listing.\n",
        "    - Because this dataset does not have a direct indicator of listing popularity, such as occupancy rate. In this case, we use <b>number of reviews</b> to reflect whether the listing is popular or not.\n",
        "<br>\n",
        "- We use <b>price</b> to represent listing value.  \n",
        "- <b>Availability 365</b> represents the days that will available for booking in the next 365 days. We assume that the smaller the number of this value(availability_365), more bookings have been made on this listing."
      ]
    },
    {
      "cell_type": "markdown",
      "id": "5adecf0b-a226-44a0-b159-aafac690dc86",
      "metadata": {
        "id": "5adecf0b-a226-44a0-b159-aafac690dc86"
      },
      "source": [
        "### 2.1 If each host id is unique for each record? Or there will be mutiple listing owned by same host? "
      ]
    },
    {
      "cell_type": "code",
      "execution_count": null,
      "id": "4097600e-5e6c-4341-95d7-08a4c6e927a8",
      "metadata": {
        "id": "4097600e-5e6c-4341-95d7-08a4c6e927a8",
        "outputId": "d7ae1afe-405e-4720-9685-d346ac31ff57"
      },
      "outputs": [
        {
          "name": "stderr",
          "output_type": "stream",
          "text": [
            "Query complete after 0.01s: 100%|██████████| 4/4 [00:00<00:00, 1659.96query/s]                        \n",
            "Downloading: 100%|██████████| 1/1 [00:01<00:00,  1.32s/rows]\n"
          ]
        },
        {
          "data": {
            "text/html": [
              "<div>\n",
              "<style scoped>\n",
              "    .dataframe tbody tr th:only-of-type {\n",
              "        vertical-align: middle;\n",
              "    }\n",
              "\n",
              "    .dataframe tbody tr th {\n",
              "        vertical-align: top;\n",
              "    }\n",
              "\n",
              "    .dataframe thead th {\n",
              "        text-align: right;\n",
              "    }\n",
              "</style>\n",
              "<table border=\"1\" class=\"dataframe\">\n",
              "  <thead>\n",
              "    <tr style=\"text-align: right;\">\n",
              "      <th></th>\n",
              "      <th>listing_count_by_each_host</th>\n",
              "    </tr>\n",
              "  </thead>\n",
              "  <tbody>\n",
              "    <tr>\n",
              "      <th>0</th>\n",
              "      <td>1</td>\n",
              "    </tr>\n",
              "  </tbody>\n",
              "</table>\n",
              "</div>"
            ],
            "text/plain": [
              "   listing_count_by_each_host\n",
              "0                           1"
            ]
          },
          "execution_count": 76,
          "metadata": {},
          "output_type": "execute_result"
        }
      ],
      "source": [
        "%%bigquery\n",
        "SELECT DISTINCT (listing_count_by_each_host)\n",
        "FROM\n",
        "(SELECT COUNT(DISTINCT id) as listing_count_by_each_host, host_id\n",
        "FROM `ba775-team6.Airbnb_Newyork.bnb1`\n",
        "GROUP BY host_id\n",
        "ORDER BY listing_count_by_each_host DESC)"
      ]
    },
    {
      "cell_type": "markdown",
      "id": "ca754363-c86b-4bfe-93e5-32990e344f1e",
      "metadata": {
        "id": "ca754363-c86b-4bfe-93e5-32990e344f1e"
      },
      "source": [
        "In this dataset, each record(id) is owned by a unique property(host_id). So we will assume each host only have one listing. \n",
        "\n",
        "However, we must recognize that in reality, one host may own more than one property. In this case, for host who have mutiple listings, it would generate more reviews for the listings in total, which will creates a great bonus for the host in search results and therefore attract users to click through.  "
      ]
    },
    {
      "cell_type": "markdown",
      "id": "c447abe7-d928-490d-9382-282bca5c8c57",
      "metadata": {
        "id": "c447abe7-d928-490d-9382-282bca5c8c57"
      },
      "source": [
        "### 2.2 Geographic distribution for listings in New York City"
      ]
    },
    {
      "cell_type": "code",
      "execution_count": null,
      "id": "51b16ed2-e713-4a1e-b089-dfba48226878",
      "metadata": {
        "id": "51b16ed2-e713-4a1e-b089-dfba48226878",
        "outputId": "ceaeaa85-e684-4e32-8200-579d14f58cad"
      },
      "outputs": [
        {
          "name": "stderr",
          "output_type": "stream",
          "text": [
            "Query complete after 0.00s: 100%|██████████| 1/1 [00:00<00:00, 842.74query/s] \n",
            "Downloading: 100%|██████████| 5/5 [00:01<00:00,  3.22rows/s]\n"
          ]
        },
        {
          "data": {
            "text/html": [
              "<div>\n",
              "<style scoped>\n",
              "    .dataframe tbody tr th:only-of-type {\n",
              "        vertical-align: middle;\n",
              "    }\n",
              "\n",
              "    .dataframe tbody tr th {\n",
              "        vertical-align: top;\n",
              "    }\n",
              "\n",
              "    .dataframe thead th {\n",
              "        text-align: right;\n",
              "    }\n",
              "</style>\n",
              "<table border=\"1\" class=\"dataframe\">\n",
              "  <thead>\n",
              "    <tr style=\"text-align: right;\">\n",
              "      <th></th>\n",
              "      <th>neighbourhood_group</th>\n",
              "      <th>number_of_listings</th>\n",
              "      <th>percentage_of_listings</th>\n",
              "    </tr>\n",
              "  </thead>\n",
              "  <tbody>\n",
              "    <tr>\n",
              "      <th>0</th>\n",
              "      <td>Manhattan</td>\n",
              "      <td>7715</td>\n",
              "      <td>47.09</td>\n",
              "    </tr>\n",
              "    <tr>\n",
              "      <th>1</th>\n",
              "      <td>Brooklyn</td>\n",
              "      <td>7084</td>\n",
              "      <td>43.24</td>\n",
              "    </tr>\n",
              "    <tr>\n",
              "      <th>2</th>\n",
              "      <td>Queens</td>\n",
              "      <td>1278</td>\n",
              "      <td>7.80</td>\n",
              "    </tr>\n",
              "    <tr>\n",
              "      <th>3</th>\n",
              "      <td>Bronx</td>\n",
              "      <td>206</td>\n",
              "      <td>1.26</td>\n",
              "    </tr>\n",
              "    <tr>\n",
              "      <th>4</th>\n",
              "      <td>Staten Island</td>\n",
              "      <td>73</td>\n",
              "      <td>0.45</td>\n",
              "    </tr>\n",
              "  </tbody>\n",
              "</table>\n",
              "</div>"
            ],
            "text/plain": [
              "  neighbourhood_group  number_of_listings  percentage_of_listings\n",
              "0           Manhattan                7715                   47.09\n",
              "1            Brooklyn                7084                   43.24\n",
              "2              Queens                1278                    7.80\n",
              "3               Bronx                 206                    1.26\n",
              "4       Staten Island                  73                    0.45"
            ]
          },
          "execution_count": 197,
          "metadata": {},
          "output_type": "execute_result"
        }
      ],
      "source": [
        "%%bigquery\n",
        "SELECT DISTINCT neighbourhood_group, count(*) number_of_listings, \n",
        "ROUND(100*(COUNT(*)/(SELECT COUNT(*) FROM `ba775-team6.Airbnb_Newyork.bnb1`)),2) AS percentage_of_listings\n",
        "FROM `ba775-team6.Airbnb_Newyork.bnb1`\n",
        "WHERE neighbourhood_group IS NOT NULL\n",
        "GROUP BY neighbourhood_group\n",
        "ORDER BY number_of_listings DESC;"
      ]
    },
    {
      "cell_type": "markdown",
      "id": "3a535485-6b61-4c81-ae42-bf140108ddd3",
      "metadata": {
        "id": "3a535485-6b61-4c81-ae42-bf140108ddd3"
      },
      "source": [
        "- As we can see, there are 5 boroughs(smaller cities in NYC):<b>{Manhattan, Brooklyn, Queens, Bronx, Staten Island}</b>.<br><br>From above, we can draw that <b>Manhattan</b> has 47% of total listings which is highest and <b>Brooklyn</b> has 43.2% of total listings which is second highest. <br><br>Each of borough have dozens of neighbourhood, we will not list them here but you can see how they distribute in different areas in our later visualization dashboard\n",
        "\n"
      ]
    },
    {
      "cell_type": "markdown",
      "id": "1ce822b2-2266-4996-bb95-cc7c0029c1b8",
      "metadata": {
        "id": "1ce822b2-2266-4996-bb95-cc7c0029c1b8"
      },
      "source": [
        "### 2.3 Q1 - Which area is most favored depending on average review score? <br> Q2 - Which area is most expensive?"
      ]
    },
    {
      "cell_type": "code",
      "execution_count": null,
      "id": "326b6850-8fa2-4154-a781-3bb6596adc14",
      "metadata": {
        "id": "326b6850-8fa2-4154-a781-3bb6596adc14",
        "outputId": "ee14a4c0-6a26-4406-a2ee-6514772aaddd"
      },
      "outputs": [
        {
          "name": "stderr",
          "output_type": "stream",
          "text": [
            "Query complete after 0.00s: 100%|██████████| 4/4 [00:00<00:00, 1002.40query/s]                        \n",
            "Downloading: 100%|██████████| 5/5 [00:01<00:00,  3.38rows/s]\n"
          ]
        },
        {
          "data": {
            "text/html": [
              "<div>\n",
              "<style scoped>\n",
              "    .dataframe tbody tr th:only-of-type {\n",
              "        vertical-align: middle;\n",
              "    }\n",
              "\n",
              "    .dataframe tbody tr th {\n",
              "        vertical-align: top;\n",
              "    }\n",
              "\n",
              "    .dataframe thead th {\n",
              "        text-align: right;\n",
              "    }\n",
              "</style>\n",
              "<table border=\"1\" class=\"dataframe\">\n",
              "  <thead>\n",
              "    <tr style=\"text-align: right;\">\n",
              "      <th></th>\n",
              "      <th>neighbourhood_group</th>\n",
              "      <th>number_of_listings</th>\n",
              "      <th>average_review_score</th>\n",
              "      <th>average_price</th>\n",
              "    </tr>\n",
              "  </thead>\n",
              "  <tbody>\n",
              "    <tr>\n",
              "      <th>0</th>\n",
              "      <td>Staten Island</td>\n",
              "      <td>73</td>\n",
              "      <td>3.16</td>\n",
              "      <td>625.16</td>\n",
              "    </tr>\n",
              "    <tr>\n",
              "      <th>1</th>\n",
              "      <td>Manhattan</td>\n",
              "      <td>7715</td>\n",
              "      <td>3.01</td>\n",
              "      <td>616.54</td>\n",
              "    </tr>\n",
              "    <tr>\n",
              "      <th>2</th>\n",
              "      <td>Brooklyn</td>\n",
              "      <td>7084</td>\n",
              "      <td>2.99</td>\n",
              "      <td>618.22</td>\n",
              "    </tr>\n",
              "    <tr>\n",
              "      <th>3</th>\n",
              "      <td>Bronx</td>\n",
              "      <td>206</td>\n",
              "      <td>2.97</td>\n",
              "      <td>592.54</td>\n",
              "    </tr>\n",
              "    <tr>\n",
              "      <th>4</th>\n",
              "      <td>Queens</td>\n",
              "      <td>1278</td>\n",
              "      <td>2.96</td>\n",
              "      <td>631.41</td>\n",
              "    </tr>\n",
              "  </tbody>\n",
              "</table>\n",
              "</div>"
            ],
            "text/plain": [
              "  neighbourhood_group  number_of_listings  average_review_score  average_price\n",
              "0       Staten Island                  73                  3.16         625.16\n",
              "1           Manhattan                7715                  3.01         616.54\n",
              "2            Brooklyn                7084                  2.99         618.22\n",
              "3               Bronx                 206                  2.97         592.54\n",
              "4              Queens                1278                  2.96         631.41"
            ]
          },
          "execution_count": 87,
          "metadata": {},
          "output_type": "execute_result"
        }
      ],
      "source": [
        "%%bigquery\n",
        "SELECT DISTINCT neighbourhood_group, \n",
        "COUNT(*) number_of_listings,\n",
        "ROUND(AVG(review_rate_number),2) AS average_review_score,\n",
        "ROUND(AVG(price),2) AS average_price\n",
        "FROM `ba775-team6.Airbnb_Newyork.bnb1`\n",
        "WHERE neighbourhood_group IS NOT NULL\n",
        "GROUP BY neighbourhood_group\n",
        "ORDER BY average_review_score DESC, average_price DESC;"
      ]
    },
    {
      "cell_type": "markdown",
      "id": "577dda2f-cf27-4813-a881-561904b3d444",
      "metadata": {
        "id": "577dda2f-cf27-4813-a881-561904b3d444"
      },
      "source": [
        "<b>Q1:</b> Although Staten Island have the highest average review score with 3.15, but parallely the number of listing (with only 27 listings) is much less than Manhattan (more than 7000 listings). <br><br>Therefore, according to the data, Manhattan is the neighbourhood group with a maximum number of listings that maintaining a good value of avgerage review score and we can assume Manhattan to be the most favoured area (neighbourhood group)"
      ]
    },
    {
      "cell_type": "markdown",
      "id": "7b5fbb3d-ef5d-4a55-a7d0-4c388e727bb0",
      "metadata": {
        "id": "7b5fbb3d-ef5d-4a55-a7d0-4c388e727bb0"
      },
      "source": [
        "<b>Q2: </b> From above we can see that, Queens has the highest avgerage price with 631.41 USD per listing with 1278 number of listings, which states less number of listings & more average value - Therefore we can see a pattern of each airbnb with expensive rates. "
      ]
    },
    {
      "cell_type": "markdown",
      "id": "e123317b-b671-4adc-8cce-a841bf8eabfe",
      "metadata": {
        "id": "e123317b-b671-4adc-8cce-a841bf8eabfe"
      },
      "source": [
        "![review_neighbourhood.png](attachment:review_neighbourhood.png)"
      ]
    },
    {
      "cell_type": "markdown",
      "id": "5637b5eb-167d-4966-b671-fdd82fd218f9",
      "metadata": {
        "id": "5637b5eb-167d-4966-b671-fdd82fd218f9"
      },
      "source": [
        "### 2.4 Q1 - Which type of room weights the most? <br> Q2 - Which type get the highest review score in average? <br>Q3 - Which room type cost most in average?"
      ]
    },
    {
      "cell_type": "code",
      "execution_count": null,
      "id": "d8b9ed54-a1d6-4f2e-90f9-f36647704e40",
      "metadata": {
        "id": "d8b9ed54-a1d6-4f2e-90f9-f36647704e40",
        "outputId": "11fe684f-7a02-482a-9e43-fd653a43febd"
      },
      "outputs": [
        {
          "name": "stderr",
          "output_type": "stream",
          "text": [
            "Query complete after 0.00s: 100%|██████████| 3/3 [00:00<00:00, 1110.98query/s]                        \n",
            "Downloading: 100%|██████████| 3/3 [00:01<00:00,  2.21rows/s]\n"
          ]
        },
        {
          "data": {
            "text/html": [
              "<div>\n",
              "<style scoped>\n",
              "    .dataframe tbody tr th:only-of-type {\n",
              "        vertical-align: middle;\n",
              "    }\n",
              "\n",
              "    .dataframe tbody tr th {\n",
              "        vertical-align: top;\n",
              "    }\n",
              "\n",
              "    .dataframe thead th {\n",
              "        text-align: right;\n",
              "    }\n",
              "</style>\n",
              "<table border=\"1\" class=\"dataframe\">\n",
              "  <thead>\n",
              "    <tr style=\"text-align: right;\">\n",
              "      <th></th>\n",
              "      <th>room_type</th>\n",
              "      <th>number_of_type</th>\n",
              "      <th>average_review_score</th>\n",
              "      <th>average_number_of_reviews</th>\n",
              "      <th>average_price</th>\n",
              "      <th>number_of_reviews</th>\n",
              "    </tr>\n",
              "  </thead>\n",
              "  <tbody>\n",
              "    <tr>\n",
              "      <th>0</th>\n",
              "      <td>Entire home/apt</td>\n",
              "      <td>9279</td>\n",
              "      <td>2.99</td>\n",
              "      <td>36.11</td>\n",
              "      <td>615.33</td>\n",
              "      <td>334662</td>\n",
              "    </tr>\n",
              "    <tr>\n",
              "      <th>1</th>\n",
              "      <td>Private room</td>\n",
              "      <td>6864</td>\n",
              "      <td>3.00</td>\n",
              "      <td>40.76</td>\n",
              "      <td>621.04</td>\n",
              "      <td>279545</td>\n",
              "    </tr>\n",
              "    <tr>\n",
              "      <th>2</th>\n",
              "      <td>Shared room</td>\n",
              "      <td>240</td>\n",
              "      <td>3.02</td>\n",
              "      <td>35.11</td>\n",
              "      <td>654.19</td>\n",
              "      <td>8426</td>\n",
              "    </tr>\n",
              "  </tbody>\n",
              "</table>\n",
              "</div>"
            ],
            "text/plain": [
              "         room_type  number_of_type  average_review_score  \\\n",
              "0  Entire home/apt            9279                  2.99   \n",
              "1     Private room            6864                  3.00   \n",
              "2      Shared room             240                  3.02   \n",
              "\n",
              "   average_number_of_reviews  average_price  number_of_reviews  \n",
              "0                      36.11         615.33             334662  \n",
              "1                      40.76         621.04             279545  \n",
              "2                      35.11         654.19               8426  "
            ]
          },
          "execution_count": 154,
          "metadata": {},
          "output_type": "execute_result"
        }
      ],
      "source": [
        "%%bigquery \n",
        "SELECT room_type,COUNT(*) AS number_of_type, \n",
        "ROUND(AVG(review_rate_number),2) AS average_review_score, \n",
        "ROUND(AVG(number_of_reviews),2) AS average_number_of_reviews,222\n",
        "ROUND(AVG(price),2) AS average_price,\n",
        "SUM(number_of_reviews) AS number_of_reviews\n",
        "FROM `ba775-team6.Airbnb_Newyork.bnb1`\n",
        "GROUP BY room_type\n",
        "ORDER BY number_of_type DESC, average_review_score DESC, average_number_of_reviews DESC;"
      ]
    },
    {
      "cell_type": "markdown",
      "id": "d81c2ef3-2245-47c4-8965-dbcfb7721c74",
      "metadata": {
        "id": "d81c2ef3-2245-47c4-8965-dbcfb7721c74"
      },
      "source": [
        "<b>Q1:</b> The Entire home/apt weights the most, which have the number of 9279, far more than the other two categories."
      ]
    },
    {
      "cell_type": "markdown",
      "id": "db5c6157-99df-4562-b81c-b41a84d02d9e",
      "metadata": {
        "id": "db5c6157-99df-4562-b81c-b41a84d02d9e"
      },
      "source": [
        "<b>Q2:</b> Although the shared room gets the highest review score in average. However, due to the small sample size of only 8426 reviews, it cannot be considered a general conclusion that the experience of other types of rooms was not as good as it was."
      ]
    },
    {
      "cell_type": "markdown",
      "id": "2c77d2c1-36ba-49c0-b92a-226c07dfdb96",
      "metadata": {
        "id": "2c77d2c1-36ba-49c0-b92a-226c07dfdb96"
      },
      "source": [
        "<b>Q3:</b> In terms of results, Shared room cost most in average. For the same reason as the Q2(small sample size), maybe we need further study."
      ]
    },
    {
      "cell_type": "markdown",
      "id": "c9db25ea-bfab-450f-ba27-b481039c99d3",
      "metadata": {
        "id": "c9db25ea-bfab-450f-ba27-b481039c99d3"
      },
      "source": [
        "![room%20type%20and%20review%20and%20price.png](attachment:room%20type%20and%20review%20and%20price.png)"
      ]
    },
    {
      "cell_type": "markdown",
      "id": "c6485b97-39e3-4b59-aa3b-d33cd29abeae",
      "metadata": {
        "id": "c6485b97-39e3-4b59-aa3b-d33cd29abeae"
      },
      "source": [
        "### 2.5  Q1 - If the listing is not allow to book instantly, would it affect review score? <br>Q2 - How about number of reviews? </br>Q3 - How about price?"
      ]
    },
    {
      "cell_type": "code",
      "execution_count": null,
      "id": "0e1d68c7-ad49-49a3-913b-de2e28296e0c",
      "metadata": {
        "id": "0e1d68c7-ad49-49a3-913b-de2e28296e0c",
        "outputId": "e21fbcb9-433a-4b9d-a66e-11f8a369b649"
      },
      "outputs": [
        {
          "name": "stderr",
          "output_type": "stream",
          "text": [
            "Query complete after 0.00s: 100%|██████████| 2/2 [00:00<00:00, 1143.33query/s]                        \n",
            "Downloading: 100%|██████████| 2/2 [00:02<00:00,  1.27s/rows]\n"
          ]
        },
        {
          "data": {
            "text/html": [
              "<div>\n",
              "<style scoped>\n",
              "    .dataframe tbody tr th:only-of-type {\n",
              "        vertical-align: middle;\n",
              "    }\n",
              "\n",
              "    .dataframe tbody tr th {\n",
              "        vertical-align: top;\n",
              "    }\n",
              "\n",
              "    .dataframe thead th {\n",
              "        text-align: right;\n",
              "    }\n",
              "</style>\n",
              "<table border=\"1\" class=\"dataframe\">\n",
              "  <thead>\n",
              "    <tr style=\"text-align: right;\">\n",
              "      <th></th>\n",
              "      <th>instant_bookable</th>\n",
              "      <th>review_score</th>\n",
              "      <th>average_price</th>\n",
              "      <th>average_number_of_reviews</th>\n",
              "    </tr>\n",
              "  </thead>\n",
              "  <tbody>\n",
              "    <tr>\n",
              "      <th>0</th>\n",
              "      <td>not allow</td>\n",
              "      <td>3.02</td>\n",
              "      <td>622.07</td>\n",
              "      <td>37.67</td>\n",
              "    </tr>\n",
              "    <tr>\n",
              "      <th>1</th>\n",
              "      <td>allow</td>\n",
              "      <td>2.97</td>\n",
              "      <td>614.19</td>\n",
              "      <td>37.87</td>\n",
              "    </tr>\n",
              "  </tbody>\n",
              "</table>\n",
              "</div>"
            ],
            "text/plain": [
              "  instant_bookable  review_score  average_price  average_number_of_reviews\n",
              "0        not allow          3.02         622.07                      37.67\n",
              "1            allow          2.97         614.19                      37.87"
            ]
          },
          "execution_count": 187,
          "metadata": {},
          "output_type": "execute_result"
        }
      ],
      "source": [
        "%%bigquery\n",
        "SELECT (CASE WHEN instant_bookable = True THEN 'allow'\n",
        "        WHEN instant_bookable = False THEN 'not allow' END) AS instant_bookable,\n",
        "ROUND(AVG(review_rate_number),2) AS review_score,\n",
        "ROUND(AVG(price),2) AS average_price,\n",
        "ROUND(AVG(number_of_reviews),2) as average_number_of_reviews\n",
        "FROM `ba775-team6.Airbnb_Newyork.bnb1`\n",
        "WHERE instant_bookable IS NOT NULL\n",
        "GROUP BY instant_bookable"
      ]
    },
    {
      "cell_type": "markdown",
      "id": "d192f6c2-0989-4c7d-aa0a-469fe89e912f",
      "metadata": {
        "id": "d192f6c2-0989-4c7d-aa0a-469fe89e912f"
      },
      "source": [
        "<b>Q1:</b> Average rating score for those allow instant booking is overall lower than those do not allow. <br>Although the difference is small, it is possible that instant booking would lead to bad review score as people who book instantly may not carefully read through the house rules and review comments therefore book the property that does not meet his expectation\n",
        "\n",
        "<b>Q2:</b> Average number of reviews for those allow instant booking is higer than those do not allow. <br>We can assume that listing that allow instant booking is more popular than those do not allow. So it is encouraged for hosts to provide their listing in a more flexible way. \n",
        "\n",
        "<b>Q3:</b> For price, listing that allow instant booking is higher than listing not allot instant booking by 8 dollars difference in average. It is possible that hosts want to increase transaction speed by increase users's desire to book with a lower price and a convenience to book instantly.\n"
      ]
    },
    {
      "cell_type": "markdown",
      "id": "5fb07bc4-634c-48f1-b7e4-7144748ebabe",
      "metadata": {
        "id": "5fb07bc4-634c-48f1-b7e4-7144748ebabe"
      },
      "source": [
        "![instant%20booking.png](attachment:instant%20booking.png)"
      ]
    },
    {
      "cell_type": "markdown",
      "id": "ba17b707-38f9-49d3-b25d-c28a65807c52",
      "metadata": {
        "id": "ba17b707-38f9-49d3-b25d-c28a65807c52"
      },
      "source": [
        "### 2.6 Q1 - How many hosts are verified? <r>Q2 - Does host verification affect number of reviews?</r> Q3 - How about review scores? \n",
        "- We expect to see verified host will attract more guests since host verification is a great way to show if the trustyworthy or not"
      ]
    },
    {
      "cell_type": "code",
      "execution_count": null,
      "id": "5c8a5bdd-2267-4fb5-b9c2-c21ca69128cf",
      "metadata": {
        "id": "5c8a5bdd-2267-4fb5-b9c2-c21ca69128cf",
        "outputId": "ab60d2e2-7bbe-4fa3-9238-4eb21c4e3344"
      },
      "outputs": [
        {
          "name": "stderr",
          "output_type": "stream",
          "text": [
            "Query complete after 0.00s: 100%|██████████| 1/1 [00:00<00:00, 957.82query/s] \n",
            "Downloading: 100%|██████████| 2/2 [00:01<00:00,  1.54rows/s]\n"
          ]
        },
        {
          "data": {
            "text/html": [
              "<div>\n",
              "<style scoped>\n",
              "    .dataframe tbody tr th:only-of-type {\n",
              "        vertical-align: middle;\n",
              "    }\n",
              "\n",
              "    .dataframe tbody tr th {\n",
              "        vertical-align: top;\n",
              "    }\n",
              "\n",
              "    .dataframe thead th {\n",
              "        text-align: right;\n",
              "    }\n",
              "</style>\n",
              "<table border=\"1\" class=\"dataframe\">\n",
              "  <thead>\n",
              "    <tr style=\"text-align: right;\">\n",
              "      <th></th>\n",
              "      <th>host_identity_verified</th>\n",
              "      <th>count</th>\n",
              "      <th>average_number_of_reviews</th>\n",
              "      <th>average_review_score</th>\n",
              "    </tr>\n",
              "  </thead>\n",
              "  <tbody>\n",
              "    <tr>\n",
              "      <th>0</th>\n",
              "      <td>verified</td>\n",
              "      <td>8089</td>\n",
              "      <td>37.87</td>\n",
              "      <td>3.01</td>\n",
              "    </tr>\n",
              "    <tr>\n",
              "      <th>1</th>\n",
              "      <td>unconfirmed</td>\n",
              "      <td>8199</td>\n",
              "      <td>37.56</td>\n",
              "      <td>2.98</td>\n",
              "    </tr>\n",
              "  </tbody>\n",
              "</table>\n",
              "</div>"
            ],
            "text/plain": [
              "  host_identity_verified  count  average_number_of_reviews  \\\n",
              "0               verified   8089                      37.87   \n",
              "1            unconfirmed   8199                      37.56   \n",
              "\n",
              "   average_review_score  \n",
              "0                  3.01  \n",
              "1                  2.98  "
            ]
          },
          "execution_count": 30,
          "metadata": {},
          "output_type": "execute_result"
        }
      ],
      "source": [
        "%%bigquery\n",
        "SELECT host_identity_verified, COUNT(*) AS count,\n",
        "       ROUND(AVG(number_of_reviews),2) AS average_number_of_reviews,\n",
        "       ROUND(AVG(review_rate_number),2) AS average_review_score\n",
        "FROM `ba775-team6.Airbnb_Newyork.bnb1`\n",
        "WHERE host_identity_verified IN ('unconfirmed','verified')\n",
        "GROUP BY host_identity_verified;"
      ]
    },
    {
      "cell_type": "markdown",
      "id": "4544fcd3-fe69-45cf-81cc-e796688f8b71",
      "metadata": {
        "id": "4544fcd3-fe69-45cf-81cc-e796688f8b71"
      },
      "source": [
        "<b>Q1:</b> The number of verified hosts are smaller than that of unconfirmed hosts. In this case, we recommend Airbnb to promote unverified  hosts to complete the id verification by email reminder, in order to attract more users and increase bookings rate. \n",
        "\n",
        "<b>Q2:</b> From above you can see the average number of reviews of verified hosts is higher than that of unconfirmed hosts. Although the different is small, it does meet our expectation that verified host will attract more guests with 0.3 point higher in average number of reviews than unconfirmed hosts.\n",
        "\n",
        "<b>Q3:</b> The average review score of verified hosts is a little higher than the score of unconfirmed hosts, but the difference is not significant. We can still assume that the verified hosts are a bit better in overall performance\n",
        "\n",
        "<b>In general</b>, we can conclude that verified hosts perform better than unverified hosts based on reviews."
      ]
    },
    {
      "cell_type": "markdown",
      "id": "5a1f71b7-db8f-4acd-b8e6-f09dad7ad590",
      "metadata": {
        "id": "5a1f71b7-db8f-4acd-b8e6-f09dad7ad590"
      },
      "source": [
        "![host%20verification%20and%20numebr%20reviews.png](attachment:host%20verification%20and%20numebr%20reviews.png)"
      ]
    },
    {
      "cell_type": "markdown",
      "id": "a251dc2a-e683-4cea-8d5e-5947c64da77e",
      "metadata": {
        "id": "a251dc2a-e683-4cea-8d5e-5947c64da77e"
      },
      "source": [
        "### 2.7 Would availability of listing affect price?\n",
        "- a analysis through equal division of dataset "
      ]
    },
    {
      "cell_type": "code",
      "execution_count": null,
      "id": "26a4e4f6-4a48-49e5-951f-1ab0d4054fbb",
      "metadata": {
        "id": "26a4e4f6-4a48-49e5-951f-1ab0d4054fbb",
        "outputId": "2022767b-28f9-47bf-adfc-d56e61b16bc1"
      },
      "outputs": [
        {
          "name": "stderr",
          "output_type": "stream",
          "text": [
            "Query complete after 0.00s: 100%|██████████| 2/2 [00:00<00:00, 1116.55query/s]                        \n",
            "Downloading: 100%|██████████| 1/1 [00:01<00:00,  1.29s/rows]\n"
          ]
        },
        {
          "data": {
            "text/html": [
              "<div>\n",
              "<style scoped>\n",
              "    .dataframe tbody tr th:only-of-type {\n",
              "        vertical-align: middle;\n",
              "    }\n",
              "\n",
              "    .dataframe tbody tr th {\n",
              "        vertical-align: top;\n",
              "    }\n",
              "\n",
              "    .dataframe thead th {\n",
              "        text-align: right;\n",
              "    }\n",
              "</style>\n",
              "<table border=\"1\" class=\"dataframe\">\n",
              "  <thead>\n",
              "    <tr style=\"text-align: right;\">\n",
              "      <th></th>\n",
              "      <th>average_yearly_availability</th>\n",
              "    </tr>\n",
              "  </thead>\n",
              "  <tbody>\n",
              "    <tr>\n",
              "      <th>0</th>\n",
              "      <td>208.0</td>\n",
              "    </tr>\n",
              "  </tbody>\n",
              "</table>\n",
              "</div>"
            ],
            "text/plain": [
              "   average_yearly_availability\n",
              "0                        208.0"
            ]
          },
          "execution_count": 175,
          "metadata": {},
          "output_type": "execute_result"
        }
      ],
      "source": [
        "%%bigquery\n",
        "SELECT ROUND(AVG(availability_365)) AS average_yearly_availability\n",
        "FROM `ba775-team6.Airbnb_Newyork.bnb1`\n",
        "WHERE availability_365 IS NOT NULL\n"
      ]
    },
    {
      "cell_type": "markdown",
      "id": "0e1b4234-3d4d-483e-be6d-2bb1868497b3",
      "metadata": {
        "id": "0e1b4234-3d4d-483e-be6d-2bb1868497b3"
      },
      "source": [
        "We can see that average availabilty in days for a listing in NYC is 208 days\n",
        "\n",
        "In the next step, getting insights on relation between availability and price we are using the quartile method to divide the dataset into 4 sets of data."
      ]
    },
    {
      "cell_type": "code",
      "execution_count": null,
      "id": "a5f404b1-52a8-4b8a-84c3-ae9b413f27fa",
      "metadata": {
        "id": "a5f404b1-52a8-4b8a-84c3-ae9b413f27fa",
        "outputId": "36c129dd-6dca-4500-caec-ef7a42e89493"
      },
      "outputs": [
        {
          "name": "stderr",
          "output_type": "stream",
          "text": [
            "Query complete after 0.00s: 100%|██████████| 9/9 [00:00<00:00, 5260.41query/s]                        \n",
            "Downloading: 100%|██████████| 5/5 [00:01<00:00,  4.03rows/s]\n"
          ]
        },
        {
          "data": {
            "text/html": [
              "<div>\n",
              "<style scoped>\n",
              "    .dataframe tbody tr th:only-of-type {\n",
              "        vertical-align: middle;\n",
              "    }\n",
              "\n",
              "    .dataframe tbody tr th {\n",
              "        vertical-align: top;\n",
              "    }\n",
              "\n",
              "    .dataframe thead th {\n",
              "        text-align: right;\n",
              "    }\n",
              "</style>\n",
              "<table border=\"1\" class=\"dataframe\">\n",
              "  <thead>\n",
              "    <tr style=\"text-align: right;\">\n",
              "      <th></th>\n",
              "      <th>availability_quartile</th>\n",
              "      <th>average_availability</th>\n",
              "      <th>average_price</th>\n",
              "      <th>neighbourhood_group</th>\n",
              "      <th>room_type</th>\n",
              "    </tr>\n",
              "  </thead>\n",
              "  <tbody>\n",
              "    <tr>\n",
              "      <th>0</th>\n",
              "      <td>1</td>\n",
              "      <td>46.10</td>\n",
              "      <td>739.25</td>\n",
              "      <td>Manhattan</td>\n",
              "      <td>Shared room</td>\n",
              "    </tr>\n",
              "    <tr>\n",
              "      <th>1</th>\n",
              "      <td>1</td>\n",
              "      <td>45.65</td>\n",
              "      <td>609.17</td>\n",
              "      <td>Manhattan</td>\n",
              "      <td>Entire home/apt</td>\n",
              "    </tr>\n",
              "    <tr>\n",
              "      <th>2</th>\n",
              "      <td>1</td>\n",
              "      <td>44.57</td>\n",
              "      <td>626.65</td>\n",
              "      <td>Manhattan</td>\n",
              "      <td>Private room</td>\n",
              "    </tr>\n",
              "    <tr>\n",
              "      <th>3</th>\n",
              "      <td>1</td>\n",
              "      <td>29.43</td>\n",
              "      <td>768.14</td>\n",
              "      <td>Queens</td>\n",
              "      <td>Shared room</td>\n",
              "    </tr>\n",
              "    <tr>\n",
              "      <th>4</th>\n",
              "      <td>1</td>\n",
              "      <td>51.93</td>\n",
              "      <td>605.00</td>\n",
              "      <td>Brooklyn</td>\n",
              "      <td>Shared room</td>\n",
              "    </tr>\n",
              "  </tbody>\n",
              "</table>\n",
              "</div>"
            ],
            "text/plain": [
              "   availability_quartile  average_availability  average_price  \\\n",
              "0                      1                 46.10         739.25   \n",
              "1                      1                 45.65         609.17   \n",
              "2                      1                 44.57         626.65   \n",
              "3                      1                 29.43         768.14   \n",
              "4                      1                 51.93         605.00   \n",
              "\n",
              "  neighbourhood_group        room_type  \n",
              "0           Manhattan      Shared room  \n",
              "1           Manhattan  Entire home/apt  \n",
              "2           Manhattan     Private room  \n",
              "3              Queens      Shared room  \n",
              "4            Brooklyn      Shared room  "
            ]
          },
          "execution_count": 190,
          "metadata": {},
          "output_type": "execute_result"
        }
      ],
      "source": [
        "%%bigquery\n",
        "SELECT\n",
        "    availability_quartile,\n",
        "    ROUND(AVG(availability_365),2) AS average_availability,\n",
        "    ROUND(AVG(price),2) AS average_price,\n",
        "    neighbourhood_group, room_type\n",
        "   \n",
        "FROM\n",
        "    (SELECT price, reviews_per_month,\n",
        "     availability_365, NTILE(4) OVER(ORDER BY availability_365) AS availability_quartile,\n",
        "     neighbourhood_group, room_type\n",
        "    FROM `ba775-team6.Airbnb_Newyork.bnb1`\n",
        "    WHERE availability_365 IS NOT NULL\n",
        "    ) \n",
        "WHERE neighbourhood_group IN ('Manhattan','Brooklyn','Queens')\n",
        "AND room_type IN ('Entire home/apt','Private room','Shared room')\n",
        "GROUP BY availability_quartile, neighbourhood_group,room_type\n",
        "ORDER BY availability_quartile\n",
        "LIMIT 5"
      ]
    },
    {
      "cell_type": "code",
      "execution_count": null,
      "id": "f394a5fc-84c3-45c2-9140-e372d5df5fc7",
      "metadata": {
        "id": "f394a5fc-84c3-45c2-9140-e372d5df5fc7",
        "outputId": "788e8083-d5b5-459d-d324-e34a6bc23f66"
      },
      "outputs": [
        {
          "name": "stderr",
          "output_type": "stream",
          "text": [
            "Query complete after 0.00s: 100%|██████████| 1/1 [00:00<00:00, 376.44query/s] \n",
            "Downloading: 100%|██████████| 4/4 [00:01<00:00,  3.48rows/s]\n"
          ]
        },
        {
          "data": {
            "text/html": [
              "<div>\n",
              "<style scoped>\n",
              "    .dataframe tbody tr th:only-of-type {\n",
              "        vertical-align: middle;\n",
              "    }\n",
              "\n",
              "    .dataframe tbody tr th {\n",
              "        vertical-align: top;\n",
              "    }\n",
              "\n",
              "    .dataframe thead th {\n",
              "        text-align: right;\n",
              "    }\n",
              "</style>\n",
              "<table border=\"1\" class=\"dataframe\">\n",
              "  <thead>\n",
              "    <tr style=\"text-align: right;\">\n",
              "      <th></th>\n",
              "      <th>availability_quartile</th>\n",
              "      <th>average_availability</th>\n",
              "      <th>average_price</th>\n",
              "    </tr>\n",
              "  </thead>\n",
              "  <tbody>\n",
              "    <tr>\n",
              "      <th>0</th>\n",
              "      <td>1</td>\n",
              "      <td>44.47</td>\n",
              "      <td>616.84</td>\n",
              "    </tr>\n",
              "    <tr>\n",
              "      <th>1</th>\n",
              "      <td>2</td>\n",
              "      <td>153.86</td>\n",
              "      <td>620.31</td>\n",
              "    </tr>\n",
              "    <tr>\n",
              "      <th>2</th>\n",
              "      <td>3</td>\n",
              "      <td>262.65</td>\n",
              "      <td>615.03</td>\n",
              "    </tr>\n",
              "    <tr>\n",
              "      <th>3</th>\n",
              "      <td>4</td>\n",
              "      <td>371.63</td>\n",
              "      <td>622.30</td>\n",
              "    </tr>\n",
              "  </tbody>\n",
              "</table>\n",
              "</div>"
            ],
            "text/plain": [
              "   availability_quartile  average_availability  average_price\n",
              "0                      1                 44.47         616.84\n",
              "1                      2                153.86         620.31\n",
              "2                      3                262.65         615.03\n",
              "3                      4                371.63         622.30"
            ]
          },
          "execution_count": 213,
          "metadata": {},
          "output_type": "execute_result"
        }
      ],
      "source": [
        "%%bigquery\n",
        "SELECT\n",
        "    availability_quartile,\n",
        "    ROUND(AVG(availability_365),2) AS average_availability,\n",
        "    ROUND(AVG(price),2) AS average_price,\n",
        "    \n",
        "FROM\n",
        "    (SELECT price, reviews_per_month,\n",
        "     availability_365, NTILE(4) OVER(ORDER BY availability_365) AS availability_quartile,\n",
        "    FROM `ba775-team6.Airbnb_Newyork.bnb1`\n",
        "    WHERE availability_365 IS NOT NULL\n",
        "    ) \n",
        "GROUP BY availability_quartile\n",
        "ORDER BY availability_quartile"
      ]
    },
    {
      "cell_type": "markdown",
      "id": "f6a4f368-5be2-427d-bce9-345675723572",
      "metadata": {
        "id": "f6a4f368-5be2-427d-bce9-345675723572"
      },
      "source": [
        "By drawing a distribution graph as follows, we can clearly see that Availability and Prices increase proportionately, as the overall graph of average price seems to be an upward linear graph. Therefore, increasing availability can be considered as one of the factor to increase listing performance on price for hosts in NYC."
      ]
    },
    {
      "cell_type": "markdown",
      "id": "64a53642-0e09-40ee-9044-9dc7660bf12f",
      "metadata": {
        "id": "64a53642-0e09-40ee-9044-9dc7660bf12f"
      },
      "source": [
        "![price.png](attachment:price.png)"
      ]
    },
    {
      "cell_type": "markdown",
      "id": "b6f6144f-9074-486d-89e0-b513d9929114",
      "metadata": {
        "id": "b6f6144f-9074-486d-89e0-b513d9929114"
      },
      "source": [
        "### 2.8 Q1 - How does price vary with different room type? Q2 - How does number of reviews vary with different room type?"
      ]
    },
    {
      "cell_type": "code",
      "execution_count": null,
      "id": "b163e415-bd97-40d0-88b0-827b8f37e8eb",
      "metadata": {
        "id": "b163e415-bd97-40d0-88b0-827b8f37e8eb",
        "outputId": "9d0432ca-df50-43d8-ffa4-8cbed0358d2b"
      },
      "outputs": [
        {
          "name": "stderr",
          "output_type": "stream",
          "text": [
            "Query complete after 0.01s: 100%|██████████| 3/3 [00:00<00:00, 1573.26query/s]                        \n",
            "Downloading: 100%|██████████| 3/3 [00:01<00:00,  2.17rows/s]\n"
          ]
        },
        {
          "data": {
            "text/html": [
              "<div>\n",
              "<style scoped>\n",
              "    .dataframe tbody tr th:only-of-type {\n",
              "        vertical-align: middle;\n",
              "    }\n",
              "\n",
              "    .dataframe tbody tr th {\n",
              "        vertical-align: top;\n",
              "    }\n",
              "\n",
              "    .dataframe thead th {\n",
              "        text-align: right;\n",
              "    }\n",
              "</style>\n",
              "<table border=\"1\" class=\"dataframe\">\n",
              "  <thead>\n",
              "    <tr style=\"text-align: right;\">\n",
              "      <th></th>\n",
              "      <th>room_type</th>\n",
              "      <th>count_per_room_type</th>\n",
              "      <th>average_number_of_reviews</th>\n",
              "      <th>averge_price</th>\n",
              "    </tr>\n",
              "  </thead>\n",
              "  <tbody>\n",
              "    <tr>\n",
              "      <th>0</th>\n",
              "      <td>Shared room</td>\n",
              "      <td>240</td>\n",
              "      <td>35.11</td>\n",
              "      <td>654.19</td>\n",
              "    </tr>\n",
              "    <tr>\n",
              "      <th>1</th>\n",
              "      <td>Entire home/apt</td>\n",
              "      <td>9279</td>\n",
              "      <td>36.11</td>\n",
              "      <td>615.33</td>\n",
              "    </tr>\n",
              "    <tr>\n",
              "      <th>2</th>\n",
              "      <td>Private room</td>\n",
              "      <td>6864</td>\n",
              "      <td>40.76</td>\n",
              "      <td>621.04</td>\n",
              "    </tr>\n",
              "  </tbody>\n",
              "</table>\n",
              "</div>"
            ],
            "text/plain": [
              "         room_type  count_per_room_type  average_number_of_reviews  \\\n",
              "0      Shared room                  240                      35.11   \n",
              "1  Entire home/apt                 9279                      36.11   \n",
              "2     Private room                 6864                      40.76   \n",
              "\n",
              "   averge_price  \n",
              "0        654.19  \n",
              "1        615.33  \n",
              "2        621.04  "
            ]
          },
          "execution_count": 9,
          "metadata": {},
          "output_type": "execute_result"
        }
      ],
      "source": [
        "%%bigquery\n",
        "SELECT \n",
        "    room_type, \n",
        "    COUNT(room_type) AS count_per_room_type, \n",
        "    ROUND(avg(number_of_reviews), 2) AS average_number_of_reviews,\n",
        "    ROUND(avg(price),2) AS averge_price \n",
        "FROM `ba775-team6.Airbnb_Newyork.bnb1`\n",
        "GROUP BY room_type\n",
        "ORDER BY average_number_of_reviews;"
      ]
    },
    {
      "cell_type": "markdown",
      "id": "27c6af2d-e6b9-4a47-86da-c85ca5ca62f4",
      "metadata": {
        "tags": [],
        "id": "27c6af2d-e6b9-4a47-86da-c85ca5ca62f4"
      },
      "source": [
        "It is observed with the above outcome that -\n",
        "\n",
        "Room type with highest average number of reviews  doesn't hold the highest average price, hence the most popular room type (i.e Private room) has average price of 621.04 which is lesser than less popular room type (i.e Shared room).\n",
        "\n",
        "It is abnormal to see private rooms are cheaper while shared room are expensive than private one which has less popularity."
      ]
    },
    {
      "cell_type": "markdown",
      "id": "2c490b8a-d2fd-4505-a0e6-68774313a81e",
      "metadata": {
        "id": "2c490b8a-d2fd-4505-a0e6-68774313a81e"
      },
      "source": [
        "### 2.9 Q1 - Does room rules affect listing review score?  Q2 - How about price?\n",
        "<font size = '3'> \n",
        "   According to the word cloud, which shows the words frequency in house_rules of the airbnbs. Apart from the polite use of words and articulation, in this area of equipment dishes,cooking are mentioned very frequently in the rules, so we chose these 2 keywords to study.\n"
      ]
    },
    {
      "cell_type": "markdown",
      "id": "10b2def2-030b-43b7-bd6c-d188c7861bdd",
      "metadata": {
        "id": "10b2def2-030b-43b7-bd6c-d188c7861bdd"
      },
      "source": [
        "![1.png](attachment:1.png)"
      ]
    },
    {
      "cell_type": "markdown",
      "id": "4c702338-6a26-4a87-a452-e98281acac99",
      "metadata": {
        "id": "4c702338-6a26-4a87-a452-e98281acac99"
      },
      "source": [
        "As you can see in the word cloud figure of the airbnbs that get the 5 score in review, pets,smoking,shoes are mentioned very frequently in the rules, so we chose these keywords to study."
      ]
    },
    {
      "cell_type": "markdown",
      "id": "58803842-cbca-4f27-aba1-eaf32bc58a53",
      "metadata": {
        "id": "58803842-cbca-4f27-aba1-eaf32bc58a53"
      },
      "source": [
        "![2.png](attachment:2.png)"
      ]
    },
    {
      "cell_type": "markdown",
      "id": "ba4228e3-3324-42cb-b311-71c79caf5218",
      "metadata": {
        "id": "ba4228e3-3324-42cb-b311-71c79caf5218"
      },
      "source": [
        "<b>2.9.1 no laundry vs laundry</b>\n",
        "\n",
        "The review score of having laundry room of house is 3.3617, compared to the average of all review score which is 2.9886 \n",
        "\n",
        "Having a laundry room will greatly improve user feedback."
      ]
    },
    {
      "cell_type": "code",
      "execution_count": null,
      "id": "332f984f-3fb5-4046-8218-9b4b13aa051d",
      "metadata": {
        "id": "332f984f-3fb5-4046-8218-9b4b13aa051d",
        "outputId": "bd664899-f2c0-4cdd-89c0-e42c35cba32d"
      },
      "outputs": [
        {
          "name": "stderr",
          "output_type": "stream",
          "text": [
            "Query complete after 0.00s: 100%|██████████| 2/2 [00:00<00:00, 1270.04query/s]                        \n",
            "Downloading: 100%|██████████| 2/2 [00:01<00:00,  1.49rows/s]\n"
          ]
        },
        {
          "data": {
            "text/html": [
              "<div>\n",
              "<style scoped>\n",
              "    .dataframe tbody tr th:only-of-type {\n",
              "        vertical-align: middle;\n",
              "    }\n",
              "\n",
              "    .dataframe tbody tr th {\n",
              "        vertical-align: top;\n",
              "    }\n",
              "\n",
              "    .dataframe thead th {\n",
              "        text-align: right;\n",
              "    }\n",
              "</style>\n",
              "<table border=\"1\" class=\"dataframe\">\n",
              "  <thead>\n",
              "    <tr style=\"text-align: right;\">\n",
              "      <th></th>\n",
              "      <th>having_laundry_or_not</th>\n",
              "      <th>review_score</th>\n",
              "      <th>average_price</th>\n",
              "    </tr>\n",
              "  </thead>\n",
              "  <tbody>\n",
              "    <tr>\n",
              "      <th>0</th>\n",
              "      <td>all</td>\n",
              "      <td>2.9886</td>\n",
              "      <td>615.6511</td>\n",
              "    </tr>\n",
              "    <tr>\n",
              "      <th>1</th>\n",
              "      <td>laundry</td>\n",
              "      <td>3.3617</td>\n",
              "      <td>529.6042</td>\n",
              "    </tr>\n",
              "  </tbody>\n",
              "</table>\n",
              "</div>"
            ],
            "text/plain": [
              "  having_laundry_or_not  review_score  average_price\n",
              "0                   all        2.9886       615.6511\n",
              "1               laundry        3.3617       529.6042"
            ]
          },
          "execution_count": 20,
          "metadata": {},
          "output_type": "execute_result"
        }
      ],
      "source": [
        "%%bigquery\n",
        "SELECT (CASE WHEN house_rules like \"%laundry%\"   THEN 'laundry'\n",
        "        WHEN house_rules is not null THEN 'all' END) as having_laundry_or_not,\n",
        "ROUND(AVG(review_rate_number),4) AS review_score,\n",
        "ROUND(AVG(price),4) AS average_price,\n",
        "FROM `ba775-team6.Airbnb_Newyork.bnb1`\n",
        "WHERE house_rules IS NOT NULL\n",
        "GROUP BY having_laundry_or_not"
      ]
    },
    {
      "cell_type": "markdown",
      "id": "f3eb8055-44e6-4b8e-8594-a6bf4e0bbe09",
      "metadata": {
        "id": "f3eb8055-44e6-4b8e-8594-a6bf4e0bbe09"
      },
      "source": [
        "<b>2.9.2 cooking amenity</b>  \n",
        "\n",
        "The review score of forbidden cooking of house is 2.95, compared to the average of all review score which is 2.99. \n",
        "\n",
        "Offering ktichen and allowing cooking will greatly improve user feedback.\n",
        "(However, the keyword filter on whether cooking is allowed or not is not precise, for example some aibnb just don't allow cooking at certain times, but usually do, so this conclusion is for reference only）"
      ]
    },
    {
      "cell_type": "code",
      "execution_count": null,
      "id": "d827b8ef-28a3-4d6f-a86a-ea2b8fc3ae79",
      "metadata": {
        "id": "d827b8ef-28a3-4d6f-a86a-ea2b8fc3ae79",
        "outputId": "fa8f9b3d-8d96-464b-84ca-a0794187ae28"
      },
      "outputs": [
        {
          "name": "stderr",
          "output_type": "stream",
          "text": [
            "Query complete after 0.00s: 100%|██████████| 2/2 [00:00<00:00, 977.92query/s]                         \n",
            "Downloading: 100%|██████████| 2/2 [00:01<00:00,  1.60rows/s]\n"
          ]
        },
        {
          "data": {
            "text/html": [
              "<div>\n",
              "<style scoped>\n",
              "    .dataframe tbody tr th:only-of-type {\n",
              "        vertical-align: middle;\n",
              "    }\n",
              "\n",
              "    .dataframe tbody tr th {\n",
              "        vertical-align: top;\n",
              "    }\n",
              "\n",
              "    .dataframe thead th {\n",
              "        text-align: right;\n",
              "    }\n",
              "</style>\n",
              "<table border=\"1\" class=\"dataframe\">\n",
              "  <thead>\n",
              "    <tr style=\"text-align: right;\">\n",
              "      <th></th>\n",
              "      <th>allow_cooking_or_not</th>\n",
              "      <th>review_score</th>\n",
              "      <th>average_price</th>\n",
              "    </tr>\n",
              "  </thead>\n",
              "  <tbody>\n",
              "    <tr>\n",
              "      <th>0</th>\n",
              "      <td>all</td>\n",
              "      <td>2.9904</td>\n",
              "      <td>615.3330</td>\n",
              "    </tr>\n",
              "    <tr>\n",
              "      <th>1</th>\n",
              "      <td>not_cooking</td>\n",
              "      <td>2.9545</td>\n",
              "      <td>577.5909</td>\n",
              "    </tr>\n",
              "  </tbody>\n",
              "</table>\n",
              "</div>"
            ],
            "text/plain": [
              "  allow_cooking_or_not  review_score  average_price\n",
              "0                  all        2.9904       615.3330\n",
              "1          not_cooking        2.9545       577.5909"
            ]
          },
          "execution_count": 17,
          "metadata": {},
          "output_type": "execute_result"
        }
      ],
      "source": [
        "%%bigquery\n",
        "SELECT (CASE WHEN house_rules not like \"%kitchen%\" \n",
        "     and house_rules like \"%no%cooking%\"   THEN 'not_cooking'\n",
        "        WHEN house_rules is not null THEN 'all' END) as allow_cooking_or_not,\n",
        "ROUND(AVG(review_rate_number),4) AS review_score,\n",
        "ROUND(AVG(price),4) AS average_price,\n",
        "FROM `ba775-team6.Airbnb_Newyork.bnb1`\n",
        "WHERE house_rules IS NOT NULL\n",
        "GROUP BY allow_cooking_or_not"
      ]
    },
    {
      "cell_type": "markdown",
      "id": "0c058d07-85cc-4bef-b84f-0df693b8e70e",
      "metadata": {
        "id": "0c058d07-85cc-4bef-b84f-0df693b8e70e"
      },
      "source": [
        "<b>2.9.3 strict or not</b> \n",
        "\n",
        "Even though the conditions for filtering whether house_rules is strict or moderate are rather trivial, we have therefore taken six decimal results. We can see that there is still a difference between strict and non-strict ratings, even if it is not large, which shows that the way the airbnbs handles the details affects the rating and the price. The stricter the conditions, for example, fobidden smoking or pets, the better the experience of the resident and the more expensive it will be."
      ]
    },
    {
      "cell_type": "code",
      "execution_count": null,
      "id": "cd0aa450-0353-462e-beca-bc2468b61275",
      "metadata": {
        "id": "cd0aa450-0353-462e-beca-bc2468b61275",
        "outputId": "54e8555d-fc02-4311-ffea-5c7f35cf88bc"
      },
      "outputs": [
        {
          "name": "stderr",
          "output_type": "stream",
          "text": [
            "Query complete after 0.00s: 100%|██████████| 2/2 [00:00<00:00, 1332.58query/s]                        \n",
            "Downloading: 100%|██████████| 2/2 [00:01<00:00,  1.60rows/s]\n"
          ]
        },
        {
          "data": {
            "text/html": [
              "<div>\n",
              "<style scoped>\n",
              "    .dataframe tbody tr th:only-of-type {\n",
              "        vertical-align: middle;\n",
              "    }\n",
              "\n",
              "    .dataframe tbody tr th {\n",
              "        vertical-align: top;\n",
              "    }\n",
              "\n",
              "    .dataframe thead th {\n",
              "        text-align: right;\n",
              "    }\n",
              "</style>\n",
              "<table border=\"1\" class=\"dataframe\">\n",
              "  <thead>\n",
              "    <tr style=\"text-align: right;\">\n",
              "      <th></th>\n",
              "      <th>strict_or_not</th>\n",
              "      <th>review_score</th>\n",
              "      <th>average_price</th>\n",
              "    </tr>\n",
              "  </thead>\n",
              "  <tbody>\n",
              "    <tr>\n",
              "      <th>0</th>\n",
              "      <td>moderate</td>\n",
              "      <td>2.987786</td>\n",
              "      <td>613.439049</td>\n",
              "    </tr>\n",
              "    <tr>\n",
              "      <th>1</th>\n",
              "      <td>strict</td>\n",
              "      <td>3.006392</td>\n",
              "      <td>626.736396</td>\n",
              "    </tr>\n",
              "  </tbody>\n",
              "</table>\n",
              "</div>"
            ],
            "text/plain": [
              "  strict_or_not  review_score  average_price\n",
              "0      moderate      2.987786     613.439049\n",
              "1        strict      3.006392     626.736396"
            ]
          },
          "execution_count": 18,
          "metadata": {},
          "output_type": "execute_result"
        }
      ],
      "source": [
        "%%bigquery\n",
        "SELECT (CASE WHEN  house_rules like \"%no%smoke%\" or house_rules  like \"%nosmoking%\" or house_rules  like \"%no%shoes%\" or house_rules  like \"%no%pet%\" or house_rules  like \"%no%pets%\"  THEN 'strict'\n",
        "        WHEN house_rules is not null THEN 'moderate' END) as strict_or_not,\n",
        "ROUND(AVG(review_rate_number),6) AS review_score,\n",
        "ROUND(AVG(price),6) AS average_price,\n",
        "FROM `ba775-team6.Airbnb_Newyork.bnb1`\n",
        "WHERE house_rules IS NOT NULL\n",
        "GROUP BY strict_or_not"
      ]
    },
    {
      "cell_type": "markdown",
      "id": "cb5b1b32-7d0f-4f65-af4f-b391ac1210ca",
      "metadata": {
        "id": "cb5b1b32-7d0f-4f65-af4f-b391ac1210ca"
      },
      "source": [
        "![explore%20around%20price.png](attachment:explore%20around%20price.png)"
      ]
    },
    {
      "cell_type": "markdown",
      "id": "b79363a3-891b-4a05-bde0-d83aaeceb309",
      "metadata": {
        "jp-MarkdownHeadingCollapsed": true,
        "tags": [],
        "id": "b79363a3-891b-4a05-bde0-d83aaeceb309"
      },
      "source": [
        "## 3. Scenario Analysis"
      ]
    },
    {
      "cell_type": "markdown",
      "id": "6236ad56-f8a3-4c42-91b7-88105365da47",
      "metadata": {
        "id": "6236ad56-f8a3-4c42-91b7-88105365da47"
      },
      "source": [
        "### 3.1 Scenario 1: For travelers have different preference on room type\n",
        "\n",
        "In this scenario, we want to analyze Airbnb performance on different consumers target. \n",
        "\n",
        "<b>Focus on flexibility</b> We will target on travelers who weigh more on order flexibility. In this case, we want to see how consumer reflect on reviews based on different room types by narrowing down our analysis to minimun nights stay\n",
        "\n",
        "<b>Focus on safety</b> We will target on travelers who weight more on safety. In this case, we want to see how review vary within different room type \n",
        "    \n",
        "<b>Focus on price level</b> We will target on travelers who determine his decision with a budget constraint. In this case, we want to see the relationsihp between price level and room type"
      ]
    },
    {
      "cell_type": "markdown",
      "id": "cd3d73a8-3e63-450e-8e59-7aa775e48e85",
      "metadata": {
        "id": "cd3d73a8-3e63-450e-8e59-7aa775e48e85"
      },
      "source": [
        "#### 3.1.1 Focus on flexibility"
      ]
    },
    {
      "cell_type": "markdown",
      "id": "e7ef1a72-d733-46b9-8e97-3f7d764db552",
      "metadata": {
        "id": "e7ef1a72-d733-46b9-8e97-3f7d764db552"
      },
      "source": [
        "<font size = '3'>(1) minimun nights stay"
      ]
    },
    {
      "cell_type": "markdown",
      "id": "1cd445e4-b062-4033-ae17-60e916c490a5",
      "metadata": {
        "id": "1cd445e4-b062-4033-ae17-60e916c490a5"
      },
      "source": [
        "To narrow down our analysis, we divided length of minimun stay into three categories which is long, moderate and short term. \n",
        "\n",
        "   - If the required minimum number of night stay is within 7 days, then it is categorized as ‘Short’.\n",
        "   - If the required minimum number of night stay is less than 30 days, and more than or equal to 7 days, then it is categorized as ‘Moderate’.\n",
        "   - If the required minimum number of night stay is within greater than or equal to 30 days, and less than or equal to 180 days, then it is categorized as ‘Long’.\n"
      ]
    },
    {
      "cell_type": "code",
      "execution_count": null,
      "id": "45d40890-f21f-4f98-a5f6-26bb1bc4eea7",
      "metadata": {
        "id": "45d40890-f21f-4f98-a5f6-26bb1bc4eea7",
        "outputId": "905031d0-53db-4df0-e4bf-2fd0638ff54c"
      },
      "outputs": [
        {
          "name": "stderr",
          "output_type": "stream",
          "text": [
            "Query complete after 0.01s: 100%|██████████| 1/1 [00:00<00:00, 925.89query/s] \n",
            "Downloading: 100%|██████████| 3/3 [00:01<00:00,  2.09rows/s]\n"
          ]
        },
        {
          "data": {
            "text/html": [
              "<div>\n",
              "<style scoped>\n",
              "    .dataframe tbody tr th:only-of-type {\n",
              "        vertical-align: middle;\n",
              "    }\n",
              "\n",
              "    .dataframe tbody tr th {\n",
              "        vertical-align: top;\n",
              "    }\n",
              "\n",
              "    .dataframe thead th {\n",
              "        text-align: right;\n",
              "    }\n",
              "</style>\n",
              "<table border=\"1\" class=\"dataframe\">\n",
              "  <thead>\n",
              "    <tr style=\"text-align: right;\">\n",
              "      <th></th>\n",
              "      <th>min_length_of_stay</th>\n",
              "      <th>Average_Review_Rate</th>\n",
              "      <th>Avg_number_review</th>\n",
              "    </tr>\n",
              "  </thead>\n",
              "  <tbody>\n",
              "    <tr>\n",
              "      <th>0</th>\n",
              "      <td>Short</td>\n",
              "      <td>2.99</td>\n",
              "      <td>41.36</td>\n",
              "    </tr>\n",
              "    <tr>\n",
              "      <th>1</th>\n",
              "      <td>Long</td>\n",
              "      <td>3.05</td>\n",
              "      <td>23.10</td>\n",
              "    </tr>\n",
              "    <tr>\n",
              "      <th>2</th>\n",
              "      <td>Moderate</td>\n",
              "      <td>3.07</td>\n",
              "      <td>16.19</td>\n",
              "    </tr>\n",
              "  </tbody>\n",
              "</table>\n",
              "</div>"
            ],
            "text/plain": [
              "  min_length_of_stay  Average_Review_Rate  Avg_number_review\n",
              "0              Short                 2.99              41.36\n",
              "1               Long                 3.05              23.10\n",
              "2           Moderate                 3.07              16.19"
            ]
          },
          "execution_count": 1,
          "metadata": {},
          "output_type": "execute_result"
        }
      ],
      "source": [
        "%%bigquery\n",
        "select \n",
        "  case \n",
        "    when minimum_nights <= 180 and minimum_nights > 30 then 'Long'\n",
        "    when minimum_nights <= 30 and minimum_nights > 7 then 'Moderate'\n",
        "    when minimum_nights > 0 and minimum_nights <= 7 then 'Short'\n",
        "  end as min_length_of_stay, \n",
        "  round(avg(review_rate_number), 2) as Average_Review_Rate,\n",
        "  round(avg(number_of_reviews), 2) as Avg_number_review\n",
        "from `ba775-team6.Airbnb_Newyork.bnb1`\n",
        "WHERE minimum_nights <=180 and minimum_nights > 0 and neighbourhood_group IS NOT NULL\n",
        "group by min_length_of_stay\n",
        "order by Average_Review_Rate"
      ]
    },
    {
      "cell_type": "markdown",
      "id": "e3ac4922-a2da-4738-856f-b2eba62ef7a2",
      "metadata": {
        "id": "e3ac4922-a2da-4738-856f-b2eba62ef7a2"
      },
      "source": [
        "By filtering on different length of stay requirement, we can conclude that - \n",
        "\n",
        "For traveler in New York city, they seems to have better experience with longer-term stay as average review rate is higher for listing with higher length of night stay requirement. \n",
        "\n",
        "However, at this stage, the trend is not significant by only 0.03-0.04 difference in average review rate. \n",
        "\n",
        "So we expect to see more significant difference in review score for different guest preference by adding other restriction as follows.\n"
      ]
    },
    {
      "cell_type": "markdown",
      "id": "a710f4dc-a8d5-47c0-b776-c45c3cdbbb58",
      "metadata": {
        "id": "a710f4dc-a8d5-47c0-b776-c45c3cdbbb58"
      },
      "source": [
        "<font size = '3'> (2)adding room type as restriction on listing selection"
      ]
    },
    {
      "cell_type": "code",
      "execution_count": null,
      "id": "269537f5-4cbc-43ea-9395-e58631eb3fec",
      "metadata": {
        "id": "269537f5-4cbc-43ea-9395-e58631eb3fec",
        "outputId": "00f3a019-617b-48e9-8ddc-ce95cbbd7a6a"
      },
      "outputs": [
        {
          "name": "stderr",
          "output_type": "stream",
          "text": [
            "Query complete after 0.00s: 100%|██████████| 4/4 [00:00<00:00, 992.91query/s]                         \n",
            "Downloading: 100%|██████████| 3/3 [00:01<00:00,  2.16rows/s]\n"
          ]
        },
        {
          "data": {
            "text/html": [
              "<div>\n",
              "<style scoped>\n",
              "    .dataframe tbody tr th:only-of-type {\n",
              "        vertical-align: middle;\n",
              "    }\n",
              "\n",
              "    .dataframe tbody tr th {\n",
              "        vertical-align: top;\n",
              "    }\n",
              "\n",
              "    .dataframe thead th {\n",
              "        text-align: right;\n",
              "    }\n",
              "</style>\n",
              "<table border=\"1\" class=\"dataframe\">\n",
              "  <thead>\n",
              "    <tr style=\"text-align: right;\">\n",
              "      <th></th>\n",
              "      <th>min_length_of_stay</th>\n",
              "      <th>room_type</th>\n",
              "      <th>Average_Review_Rate</th>\n",
              "    </tr>\n",
              "  </thead>\n",
              "  <tbody>\n",
              "    <tr>\n",
              "      <th>0</th>\n",
              "      <td>Long</td>\n",
              "      <td>[Private room, Entire home/apt, Shared room]</td>\n",
              "      <td>[3.13, 3.05, 4.0]</td>\n",
              "    </tr>\n",
              "    <tr>\n",
              "      <th>1</th>\n",
              "      <td>Moderate</td>\n",
              "      <td>[Entire home/apt, Private room, Shared room]</td>\n",
              "      <td>[3.02, 3.04, 3.23]</td>\n",
              "    </tr>\n",
              "    <tr>\n",
              "      <th>2</th>\n",
              "      <td>Short</td>\n",
              "      <td>[Entire home/apt, Private room, Shared room]</td>\n",
              "      <td>[2.98, 3.0, 2.96]</td>\n",
              "    </tr>\n",
              "  </tbody>\n",
              "</table>\n",
              "</div>"
            ],
            "text/plain": [
              "  min_length_of_stay                                     room_type  \\\n",
              "0               Long  [Private room, Entire home/apt, Shared room]   \n",
              "1           Moderate  [Entire home/apt, Private room, Shared room]   \n",
              "2              Short  [Entire home/apt, Private room, Shared room]   \n",
              "\n",
              "  Average_Review_Rate  \n",
              "0   [3.13, 3.05, 4.0]  \n",
              "1  [3.02, 3.04, 3.23]  \n",
              "2   [2.98, 3.0, 2.96]  "
            ]
          },
          "execution_count": 19,
          "metadata": {},
          "output_type": "execute_result"
        }
      ],
      "source": [
        "%%bigquery\n",
        "WITH MinStayLength AS(\n",
        "SELECT\n",
        "  CASE \n",
        "    WHEN minimum_nights <= 180 AND minimum_nights >= 30 THEN 'Long'\n",
        "    WHEN minimum_nights < 30 AND minimum_nights >= 7 THEN 'Moderate'\n",
        "    WHEN minimum_nights > 0 AND minimum_nights < 7 THEN 'Short'\n",
        "  END as min_length_of_stay, \n",
        "  room_type,\n",
        "  ROUND(AVG(review_rate_number), 2) AS Average_Review_Rate,\n",
        "FROM `ba775-team6.Airbnb_Newyork.bnb1`\n",
        "WHERE minimum_nights <=180 AND minimum_nights > 0\n",
        "GROUP BY room_type, min_length_of_stay\n",
        "ORDER BY min_length_of_stay)\n",
        "\n",
        "SELECT\n",
        "  min_length_of_stay,\n",
        "  ARRAY_AGG(room_type) AS room_type,\n",
        "  ARRAY_AGG(Average_Review_Rate) AS Average_Review_Rate,\n",
        "  FROM MinStayLength\n",
        "GROUP BY min_length_of_stay\n"
      ]
    },
    {
      "cell_type": "markdown",
      "id": "75698091-e3a6-4c38-9fc0-3bf40f7e4e35",
      "metadata": {
        "id": "75698091-e3a6-4c38-9fc0-3bf40f7e4e35"
      },
      "source": [
        "By adding room type as another restriction, we can get following conclusion: \n",
        "\n",
        "For traveler who prefer <b>long-term stay (more than one week)</b>, <b>shared room</b> get most positive review feedback with a average 4 and 3.23 scores. And there is a trend that the average scores of shared room is higher than private room, which is higher than entire home/apt. \n",
        "\n",
        "Therefore, <b>for long-term traveler</b>, we can get the conclusion for their room preference, which is shared > entire > private\n",
        "\n",
        "For traveler who prefer <b>short-term stay (less than one week) </b>, private room get highest review score while shared room ranked lowest. \n",
        "\n",
        "Therefore, for short-term traveler, we can get the conclusion for their room preference, which is private > entire home> shared\n",
        "\n",
        "So for host who owned long-term listing, we would suggest host to post more shared room while for host who owned short-term listing, we would suggest host to post more private room\n"
      ]
    },
    {
      "cell_type": "markdown",
      "id": "50d2782d-61c9-4cda-8404-6ea4862c7744",
      "metadata": {
        "id": "50d2782d-61c9-4cda-8404-6ea4862c7744"
      },
      "source": [
        "#### 3.1.2 Focus on safety"
      ]
    },
    {
      "cell_type": "code",
      "execution_count": null,
      "id": "17b5e484-069d-47ec-b084-f9aeb7f9a8ab",
      "metadata": {
        "id": "17b5e484-069d-47ec-b084-f9aeb7f9a8ab",
        "outputId": "7f98f316-1a31-42fb-94e6-11d4c016e2a6"
      },
      "outputs": [
        {
          "name": "stderr",
          "output_type": "stream",
          "text": [
            "Query complete after 0.00s: 100%|██████████| 1/1 [00:00<00:00, 949.58query/s] \n",
            "Downloading: 100%|██████████| 3/3 [00:01<00:00,  2.18rows/s]\n"
          ]
        },
        {
          "data": {
            "text/html": [
              "<div>\n",
              "<style scoped>\n",
              "    .dataframe tbody tr th:only-of-type {\n",
              "        vertical-align: middle;\n",
              "    }\n",
              "\n",
              "    .dataframe tbody tr th {\n",
              "        vertical-align: top;\n",
              "    }\n",
              "\n",
              "    .dataframe thead th {\n",
              "        text-align: right;\n",
              "    }\n",
              "</style>\n",
              "<table border=\"1\" class=\"dataframe\">\n",
              "  <thead>\n",
              "    <tr style=\"text-align: right;\">\n",
              "      <th></th>\n",
              "      <th>room_type</th>\n",
              "      <th>host_verification</th>\n",
              "      <th>average_review_score</th>\n",
              "      <th>average_number_of_reviews</th>\n",
              "      <th>average_price</th>\n",
              "    </tr>\n",
              "  </thead>\n",
              "  <tbody>\n",
              "    <tr>\n",
              "      <th>0</th>\n",
              "      <td>Entire home/apt</td>\n",
              "      <td>[unconfirmed, verified]</td>\n",
              "      <td>[2.96, 3.02]</td>\n",
              "      <td>[36.19, 35.35]</td>\n",
              "      <td>[614.37, 616.12]</td>\n",
              "    </tr>\n",
              "    <tr>\n",
              "      <th>1</th>\n",
              "      <td>Private room</td>\n",
              "      <td>[unconfirmed, verified]</td>\n",
              "      <td>[3.01, 3.0]</td>\n",
              "      <td>[39.77, 41.13]</td>\n",
              "      <td>[628.05, 613.72]</td>\n",
              "    </tr>\n",
              "    <tr>\n",
              "      <th>2</th>\n",
              "      <td>Shared room</td>\n",
              "      <td>[unconfirmed, verified]</td>\n",
              "      <td>[3.03, 3.01]</td>\n",
              "      <td>[29.0, 41.15]</td>\n",
              "      <td>[678.89, 620.55]</td>\n",
              "    </tr>\n",
              "  </tbody>\n",
              "</table>\n",
              "</div>"
            ],
            "text/plain": [
              "         room_type        host_verification average_review_score  \\\n",
              "0  Entire home/apt  [unconfirmed, verified]         [2.96, 3.02]   \n",
              "1     Private room  [unconfirmed, verified]          [3.01, 3.0]   \n",
              "2      Shared room  [unconfirmed, verified]         [3.03, 3.01]   \n",
              "\n",
              "  average_number_of_reviews     average_price  \n",
              "0            [36.19, 35.35]  [614.37, 616.12]  \n",
              "1            [39.77, 41.13]  [628.05, 613.72]  \n",
              "2             [29.0, 41.15]  [678.89, 620.55]  "
            ]
          },
          "execution_count": 29,
          "metadata": {},
          "output_type": "execute_result"
        }
      ],
      "source": [
        "%%bigquery\n",
        "WITH room_type_verification \n",
        "AS(\n",
        "    SELECT host_identity_verified,\n",
        "    room_type,\n",
        "    ROUND(AVG(price),2) AS average_price,\n",
        "    ROUND(AVG(review_rate_number),2) AS average_review_score,\n",
        "    ROUND(AVG(number_of_reviews),2) AS average_number_of_reviews\n",
        "    FROM `ba775-team6.Airbnb_Newyork.bnb1`\n",
        "    WHERE host_identity_verified IN ('unconfirmed','verified')\n",
        "    GROUP BY host_identity_verified, room_type\n",
        "    ORDER BY room_type, host_identity_verified, \n",
        "    average_review_score DESC \n",
        ")\n",
        "SELECT room_type, \n",
        "ARRAY_AGG(host_identity_verified) AS host_verification, \n",
        "ARRAY_AGG(average_review_score) AS average_review_score,\n",
        "ARRAY_AGG(average_number_of_reviews) AS average_number_of_reviews,\n",
        "ARRAY_AGG(average_price) AS average_price\n",
        "FROM room_type_verification \n",
        "GROUP BY room_type"
      ]
    },
    {
      "cell_type": "markdown",
      "id": "56582ff2-28cb-4c1a-bf58-7b138d238d4f",
      "metadata": {
        "id": "56582ff2-28cb-4c1a-bf58-7b138d238d4f"
      },
      "source": [
        "For travelers who prefer entire home/apt, the average review score of verified hosts is higher than the unconfirmed one while the average number of reviews is lower than the unconfirmed one with a higher price. \n",
        "\n",
        "For travelers who prefer private room type, the average review score of verified is lower than unconfirmed one while the average number of review is higher than unconfirmed one with a lower price\n",
        "\n",
        "For users who prefer shared room, the average review score of verified hosts is lower than the unconfirmed one. While average number of review is much higher than unconfirmed with a lower price\n",
        "\n",
        "In fact, we can conclude from the number of reviews of private rooms and shared rooms that people prefer verified hosts because verified hosts are probably more secure."
      ]
    },
    {
      "cell_type": "markdown",
      "id": "737b3704-078a-42a9-ab27-569724db3dea",
      "metadata": {
        "id": "737b3704-078a-42a9-ab27-569724db3dea"
      },
      "source": [
        "![safety.png](attachment:safety.png)"
      ]
    },
    {
      "cell_type": "markdown",
      "id": "bc1df3bb-8f9d-42e1-b5b1-3b9ad477c50c",
      "metadata": {
        "id": "bc1df3bb-8f9d-42e1-b5b1-3b9ad477c50c"
      },
      "source": [
        "#### 3.1.3 Focus on price level\n"
      ]
    },
    {
      "cell_type": "markdown",
      "id": "5e49daf2-dcf2-4cf0-9f58-be6ece4879af",
      "metadata": {
        "id": "5e49daf2-dcf2-4cf0-9f58-be6ece4879af"
      },
      "source": [
        "To better analyze price, we add a new column named 'price relative ratio'. Price relative ratio is calculated using the price of a particular listing divided by the average price of listing in its neighbourhood_group and respective room type. This measurement is important because, using this ratio, we can grasp at least approximately the level of how the price is deviated from the average, which is calculated based on the listing's neighbourhood_group and room type.\n",
        "\n",
        "However, since we already added this column in our dataset through bigquery and so we cannot run the query in jupyter notebook. So just attached our code below for reference. \n",
        "\n",
        "    CREATE OR REPLACE TABLE `ba775-team6.Airbnb_Newyork.bnb1`\n",
        "    AS(\n",
        "    SELECT *,\n",
        "    ROUND(price/(SELECT AVG(price)\n",
        "      FROM `ba775-team6.Airbnb_Newyork.bnb` a\n",
        "      WHERE a.neighbourhood_group = b.neighbourhood_group AND a.room_type = b.room_type\n",
        "      GROUP BY neighbourhood_group, room_type), 2\n",
        "                    ) AS price_relative_to_average\n",
        "    FROM `ba775-team6.Airbnb_Newyork.bnb1` b)"
      ]
    },
    {
      "cell_type": "markdown",
      "id": "c0ec9fb8-31a9-4679-9f3d-cdc856b0f2f1",
      "metadata": {
        "id": "c0ec9fb8-31a9-4679-9f3d-cdc856b0f2f1"
      },
      "source": [
        "- To narrow down our analysis, we divided price into three different price levels \n",
        "    - price_level_1 is defined when price relative ratio > 1.4. It might serve the travelers who are able to or willing to afford a much higher price.\n",
        "    - price_level_2 is defined when price relative ratio <= 1.4 and > 0.7. \n",
        "    - price_level_3 is defined when price relative ratio <= 0.7\n",
        "   "
      ]
    },
    {
      "cell_type": "markdown",
      "id": "8fe382f8-de44-42af-8bc7-6a7258627bd0",
      "metadata": {
        "id": "8fe382f8-de44-42af-8bc7-6a7258627bd0"
      },
      "source": [
        "Putting ourselves into the shoes of a customer who is searching for an airbnb listing, we identify two major factors that could determine his or her decision.\n",
        "- First, it might be the price level the listing is at. In other words, the customers might have a budget already, so as long as the spending is kept within that budget, different room types might not have a significant impact, at least initially. Among the customers who are willing to pay a price at price level 1 (relative price ratio > 1.4), data in this table reflect to us that private rooms or shared rooms are more frequently booked than the entire home/apt type is. However, when the price is at price level 2 or 3, we can see that there is no evidently less availability for a certain room type.\n"
      ]
    },
    {
      "cell_type": "code",
      "execution_count": null,
      "id": "7d537aa2-4842-4927-9b93-e85801f3d69e",
      "metadata": {
        "id": "7d537aa2-4842-4927-9b93-e85801f3d69e",
        "outputId": "0ae2aa8a-3586-452b-be42-10df9c4ba06d"
      },
      "outputs": [
        {
          "name": "stderr",
          "output_type": "stream",
          "text": [
            "Query complete after 0.00s: 100%|██████████| 4/4 [00:00<00:00, 2019.16query/s]                        \n",
            "Downloading: 100%|██████████| 3/3 [00:01<00:00,  1.61rows/s]\n"
          ]
        },
        {
          "data": {
            "text/html": [
              "<div>\n",
              "<style scoped>\n",
              "    .dataframe tbody tr th:only-of-type {\n",
              "        vertical-align: middle;\n",
              "    }\n",
              "\n",
              "    .dataframe tbody tr th {\n",
              "        vertical-align: top;\n",
              "    }\n",
              "\n",
              "    .dataframe thead th {\n",
              "        text-align: right;\n",
              "    }\n",
              "</style>\n",
              "<table border=\"1\" class=\"dataframe\">\n",
              "  <thead>\n",
              "    <tr style=\"text-align: right;\">\n",
              "      <th></th>\n",
              "      <th>Price_Level</th>\n",
              "      <th>room_type</th>\n",
              "      <th>Average_Review_Rate</th>\n",
              "      <th>Average_Availability365</th>\n",
              "    </tr>\n",
              "  </thead>\n",
              "  <tbody>\n",
              "    <tr>\n",
              "      <th>0</th>\n",
              "      <td>Price_Level_1</td>\n",
              "      <td>[Entire home/apt, Private room, Shared room]</td>\n",
              "      <td>[2.94, 3.0, 2.98]</td>\n",
              "      <td>[187.1, 179.46, 180.04]</td>\n",
              "    </tr>\n",
              "    <tr>\n",
              "      <th>1</th>\n",
              "      <td>Price_Level_2</td>\n",
              "      <td>[Entire home/apt, Private room, Shared room]</td>\n",
              "      <td>[3.01, 3.0, 3.06]</td>\n",
              "      <td>[183.69, 183.91, 188.56]</td>\n",
              "    </tr>\n",
              "    <tr>\n",
              "      <th>2</th>\n",
              "      <td>Price_Level_3</td>\n",
              "      <td>[Entire home/apt, Private room, Shared room]</td>\n",
              "      <td>[2.98, 3.02, 3.12]</td>\n",
              "      <td>[182.72, 182.4, 180.07]</td>\n",
              "    </tr>\n",
              "  </tbody>\n",
              "</table>\n",
              "</div>"
            ],
            "text/plain": [
              "     Price_Level                                     room_type  \\\n",
              "0  Price_Level_1  [Entire home/apt, Private room, Shared room]   \n",
              "1  Price_Level_2  [Entire home/apt, Private room, Shared room]   \n",
              "2  Price_Level_3  [Entire home/apt, Private room, Shared room]   \n",
              "\n",
              "  Average_Review_Rate   Average_Availability365  \n",
              "0   [2.94, 3.0, 2.98]   [187.1, 179.46, 180.04]  \n",
              "1   [3.01, 3.0, 3.06]  [183.69, 183.91, 188.56]  \n",
              "2  [2.98, 3.02, 3.12]   [182.72, 182.4, 180.07]  "
            ]
          },
          "execution_count": 54,
          "metadata": {},
          "output_type": "execute_result"
        }
      ],
      "source": [
        "%%bigquery\n",
        "WITH pricelevel AS(\n",
        "SELECT\n",
        "  room_type,\n",
        "  CASE \n",
        "    WHEN price_relative_to_average > 1.4 THEN 'Price_Level_1'\n",
        "    WHEN 0.7 < price_relative_to_average AND price_relative_to_average <= 1.4 THEN 'Price_Level_2'\n",
        "    WHEN price_relative_to_average <= 0.7 THEN 'Price_Level_3'\n",
        "END AS Price_Level,\n",
        "  ROUND(AVG(review_rate_number), 2) AS Average_Review_Rate,\n",
        "  ROUND(AVG(availability_365), 2) AS Average_Availability365\n",
        "FROM `ba775-team6.Airbnb_Newyork.bnb1`\n",
        "WHERE price_relative_to_average IS NOT NULL AND \n",
        "      cancellation_policy IS NOT NULL AND \n",
        "      availability_365 > 0 AND availability_365 <= 365\n",
        "GROUP BY room_type, Price_Level\n",
        "ORDER BY room_type, Price_Level)\n",
        "\n",
        "SELECT\n",
        "  Price_Level,\n",
        "  ARRAY_AGG(room_type) AS room_type,\n",
        "  ARRAY_AGG(Average_Review_Rate) AS Average_Review_Rate,\n",
        "  ARRAY_AGG(Average_Availability365) AS Average_Availability365\n",
        "  FROM pricelevel\n",
        "GROUP BY Price_Level"
      ]
    },
    {
      "cell_type": "markdown",
      "id": "144ba8bd-535e-4ec6-87f0-90b1875399c9",
      "metadata": {
        "id": "144ba8bd-535e-4ec6-87f0-90b1875399c9"
      },
      "source": [
        "- Second, the customers might start the search with a specific room type option in mind. If that is the case, we can see that the type of shared room has the most evident differentiation on average review rate number, on which we interpret as the difference among price level might have a larger impact on customer review/satisfaction when they stayed in listings belonging to ‘shared room’ type.  Furthermore, there is less availability of shared room type when the listings’ price is either significantly higher than average or comparatively lower than average. This could indicate that customers would rather opt  for either high-price shared room or low-price shared room.\n"
      ]
    },
    {
      "cell_type": "code",
      "execution_count": null,
      "id": "f0044c60-16a7-49e8-a758-6ef7ff34ef3d",
      "metadata": {
        "id": "f0044c60-16a7-49e8-a758-6ef7ff34ef3d",
        "outputId": "ec297a50-1cfa-454e-b58d-48ac6d67e84e"
      },
      "outputs": [
        {
          "name": "stderr",
          "output_type": "stream",
          "text": [
            "Query complete after 0.00s: 100%|██████████| 1/1 [00:00<00:00, 875.64query/s] \n",
            "Downloading: 100%|██████████| 3/3 [00:01<00:00,  2.07rows/s]\n"
          ]
        },
        {
          "data": {
            "text/html": [
              "<div>\n",
              "<style scoped>\n",
              "    .dataframe tbody tr th:only-of-type {\n",
              "        vertical-align: middle;\n",
              "    }\n",
              "\n",
              "    .dataframe tbody tr th {\n",
              "        vertical-align: top;\n",
              "    }\n",
              "\n",
              "    .dataframe thead th {\n",
              "        text-align: right;\n",
              "    }\n",
              "</style>\n",
              "<table border=\"1\" class=\"dataframe\">\n",
              "  <thead>\n",
              "    <tr style=\"text-align: right;\">\n",
              "      <th></th>\n",
              "      <th>room_type</th>\n",
              "      <th>Price_Level</th>\n",
              "      <th>Average_Review_Rate</th>\n",
              "      <th>Average_Availability365</th>\n",
              "    </tr>\n",
              "  </thead>\n",
              "  <tbody>\n",
              "    <tr>\n",
              "      <th>0</th>\n",
              "      <td>Entire home/apt</td>\n",
              "      <td>[Price_Level_1, Price_Level_2, Price_Level_3]</td>\n",
              "      <td>[2.94, 3.01, 2.98]</td>\n",
              "      <td>[187.1, 183.69, 182.72]</td>\n",
              "    </tr>\n",
              "    <tr>\n",
              "      <th>1</th>\n",
              "      <td>Private room</td>\n",
              "      <td>[Price_Level_1, Price_Level_2, Price_Level_3]</td>\n",
              "      <td>[3.0, 3.0, 3.02]</td>\n",
              "      <td>[179.46, 183.91, 182.4]</td>\n",
              "    </tr>\n",
              "    <tr>\n",
              "      <th>2</th>\n",
              "      <td>Shared room</td>\n",
              "      <td>[Price_Level_1, Price_Level_2, Price_Level_3]</td>\n",
              "      <td>[2.98, 3.06, 3.12]</td>\n",
              "      <td>[180.04, 188.56, 180.07]</td>\n",
              "    </tr>\n",
              "  </tbody>\n",
              "</table>\n",
              "</div>"
            ],
            "text/plain": [
              "         room_type                                    Price_Level  \\\n",
              "0  Entire home/apt  [Price_Level_1, Price_Level_2, Price_Level_3]   \n",
              "1     Private room  [Price_Level_1, Price_Level_2, Price_Level_3]   \n",
              "2      Shared room  [Price_Level_1, Price_Level_2, Price_Level_3]   \n",
              "\n",
              "  Average_Review_Rate   Average_Availability365  \n",
              "0  [2.94, 3.01, 2.98]   [187.1, 183.69, 182.72]  \n",
              "1    [3.0, 3.0, 3.02]   [179.46, 183.91, 182.4]  \n",
              "2  [2.98, 3.06, 3.12]  [180.04, 188.56, 180.07]  "
            ]
          },
          "execution_count": 2,
          "metadata": {},
          "output_type": "execute_result"
        }
      ],
      "source": [
        "%%bigquery\n",
        "WITH pricelevel AS(\n",
        "SELECT\n",
        "  room_type,\n",
        "  CASE \n",
        "    WHEN price_relative_to_average > 1.4 THEN 'Price_Level_1'\n",
        "    WHEN 0.7 < price_relative_to_average AND price_relative_to_average <= 1.4 THEN 'Price_Level_2'\n",
        "    WHEN price_relative_to_average <= 0.7 THEN 'Price_Level_3'\n",
        "END AS Price_Level,\n",
        "  ROUND(AVG(review_rate_number), 2) AS Average_Review_Rate,\n",
        "  ROUND(AVG(availability_365), 2) AS Average_Availability365\n",
        "FROM `ba775-team6.Airbnb_Newyork.bnb1`\n",
        "WHERE price_relative_to_average IS NOT NULL AND \n",
        "      cancellation_policy IS NOT NULL AND \n",
        "      availability_365 > 0 AND availability_365 <= 365\n",
        "GROUP BY room_type, Price_Level\n",
        "ORDER BY room_type, Price_Level)\n",
        "\n",
        "SELECT\n",
        "  room_type,\n",
        "  ARRAY_AGG(Price_Level) AS Price_Level,\n",
        "  ARRAY_AGG(Average_Review_Rate) AS Average_Review_Rate,\n",
        "  ARRAY_AGG(Average_Availability365) AS Average_Availability365\n",
        "  FROM pricelevel\n",
        "GROUP BY room_type"
      ]
    },
    {
      "cell_type": "markdown",
      "id": "97025f7a-6531-4a88-9834-ca73f4c5a839",
      "metadata": {
        "id": "97025f7a-6531-4a88-9834-ca73f4c5a839"
      },
      "source": [
        "### 3.2 Scenario 2: For traveler who do not have a flexible plan\n",
        "- for this type of travelers, cancellation policy is important because it will increase the cost to travel if the schedule change. While minimum_nights can reflect listing's booking flexibility, we use cancellation policy and minimum_nights as our focus and then see review and availability may vary within different length of night stay and cancellation policy"
      ]
    },
    {
      "cell_type": "code",
      "execution_count": null,
      "id": "be6ad1fc-f575-491d-b0b8-b5436cd24266",
      "metadata": {
        "id": "be6ad1fc-f575-491d-b0b8-b5436cd24266",
        "outputId": "2a33c199-fb23-4443-afd1-0c40a79bed5d"
      },
      "outputs": [
        {
          "name": "stderr",
          "output_type": "stream",
          "text": [
            "Query complete after 0.00s: 100%|██████████| 4/4 [00:00<00:00, 2474.52query/s]                        \n",
            "Downloading: 100%|██████████| 3/3 [00:01<00:00,  2.30rows/s]\n"
          ]
        },
        {
          "data": {
            "text/html": [
              "<div>\n",
              "<style scoped>\n",
              "    .dataframe tbody tr th:only-of-type {\n",
              "        vertical-align: middle;\n",
              "    }\n",
              "\n",
              "    .dataframe tbody tr th {\n",
              "        vertical-align: top;\n",
              "    }\n",
              "\n",
              "    .dataframe thead th {\n",
              "        text-align: right;\n",
              "    }\n",
              "</style>\n",
              "<table border=\"1\" class=\"dataframe\">\n",
              "  <thead>\n",
              "    <tr style=\"text-align: right;\">\n",
              "      <th></th>\n",
              "      <th>min_length_of_stay</th>\n",
              "      <th>cancellation_policy</th>\n",
              "      <th>Average_Review_Rate</th>\n",
              "      <th>Average_Availability365</th>\n",
              "    </tr>\n",
              "  </thead>\n",
              "  <tbody>\n",
              "    <tr>\n",
              "      <th>0</th>\n",
              "      <td>Long</td>\n",
              "      <td>[flexible, strict, moderate]</td>\n",
              "      <td>[2.97, 3.17, 3.06]</td>\n",
              "      <td>[178.19, 179.19, 187.53]</td>\n",
              "    </tr>\n",
              "    <tr>\n",
              "      <th>1</th>\n",
              "      <td>Moderate</td>\n",
              "      <td>[flexible, moderate, strict]</td>\n",
              "      <td>[3.03, 3.06, 3.03]</td>\n",
              "      <td>[178.69, 184.81, 190.65]</td>\n",
              "    </tr>\n",
              "    <tr>\n",
              "      <th>2</th>\n",
              "      <td>Short</td>\n",
              "      <td>[flexible, moderate, strict]</td>\n",
              "      <td>[2.99, 2.97, 2.99]</td>\n",
              "      <td>[182.31, 183.51, 184.51]</td>\n",
              "    </tr>\n",
              "  </tbody>\n",
              "</table>\n",
              "</div>"
            ],
            "text/plain": [
              "  min_length_of_stay           cancellation_policy Average_Review_Rate  \\\n",
              "0               Long  [flexible, strict, moderate]  [2.97, 3.17, 3.06]   \n",
              "1           Moderate  [flexible, moderate, strict]  [3.03, 3.06, 3.03]   \n",
              "2              Short  [flexible, moderate, strict]  [2.99, 2.97, 2.99]   \n",
              "\n",
              "    Average_Availability365  \n",
              "0  [178.19, 179.19, 187.53]  \n",
              "1  [178.69, 184.81, 190.65]  \n",
              "2  [182.31, 183.51, 184.51]  "
            ]
          },
          "execution_count": 47,
          "metadata": {},
          "output_type": "execute_result"
        }
      ],
      "source": [
        "%%bigquery\n",
        "WITH cpolicy AS(\n",
        "SELECT\n",
        "  CASE \n",
        "    WHEN minimum_nights <= 180 AND minimum_nights >= 30 THEN 'Long'\n",
        "    WHEN minimum_nights < 30 AND minimum_nights >= 7 THEN 'Moderate'\n",
        "    WHEN minimum_nights > 0 AND minimum_nights < 7 THEN 'Short'\n",
        "  END AS min_length_of_stay, \n",
        "  cancellation_policy,\n",
        "  ROUND(AVG(review_rate_number), 2) AS Average_Review_Rate,\n",
        "  ROUND(AVG(price_relative_to_average), 2) AS Relative_Price_Ratio,\n",
        "  ROUND(AVG(price), 2) AS Average_Price,\n",
        "  ROUND(AVG(availability_365), 2) AS Average_Availability365\n",
        "FROM `ba775-team6.Airbnb_Newyork.bnb1`\n",
        "WHERE cancellation_policy IS NOT NULL AND \n",
        "      minimum_nights <=180 AND minimum_nights > 0 AND \n",
        "      availability_365 > 0 AND availability_365 <= 365\n",
        "GROUP BY min_length_of_stay, cancellation_policy\n",
        "ORDER BY min_length_of_stay, Average_Availability365 ASC)\n",
        "\n",
        "SELECT\n",
        "  min_length_of_stay,\n",
        "  ARRAY_AGG(cancellation_policy) AS cancellation_policy,\n",
        "  ARRAY_AGG(Average_Review_Rate) AS Average_Review_Rate,\n",
        "  ARRAY_AGG(Average_Availability365) AS Average_Availability365\n",
        "  FROM cpolicy\n",
        "GROUP BY min_length_of_stay"
      ]
    },
    {
      "cell_type": "markdown",
      "id": "f1af6231-0847-426e-99f9-7e8988ebe96f",
      "metadata": {
        "id": "f1af6231-0847-426e-99f9-7e8988ebe96f"
      },
      "source": [
        "Regardless of the required minimum number of night to stay, listings with flexible cancellation policy have less availability. In other words, listings with flexible cancellation policy have more occupacy in future and it is more popular. It does accord with common sense that consumer will prefer to order listing with flexible cancellation policy. \n",
        "\n",
        "\n",
        "- Long - flexible 178.19 \n",
        "- Moderate - flexible :178.69 \n",
        "- Short - flexible : 182.31\n",
        "\n",
        "And yet, it is evident that when the required length of stay is long, the flexible cancellation policy listings get an average review score = 2.97 while the strict cancellation policy listings get an average review score = 3.17. At the same time, and possibly as a result, the average availability for listings with flexible or strict cancellation policy is approximately the same. \n",
        "It might indicate that when the required length of stay is long, guests would start to weigh more on listings’ review rate.\n"
      ]
    },
    {
      "cell_type": "markdown",
      "id": "85774f17-5f8e-400a-bb7a-f30b8798f02e",
      "metadata": {
        "id": "85774f17-5f8e-400a-bb7a-f30b8798f02e"
      },
      "source": [
        "### 3.3 Scenario 3: Exploring the most preferred ideal top-priced Airbnb listings for luxury travelers"
      ]
    },
    {
      "cell_type": "markdown",
      "id": "48d33f95-6bd0-4066-bff7-c6aa358d2928",
      "metadata": {
        "id": "48d33f95-6bd0-4066-bff7-c6aa358d2928"
      },
      "source": [
        "In order to find the best airbnb property:- comparing airbnb price with ideal scenario of choosing Entire home/apt\n",
        "\n",
        "- Room Type = Entire home/apt\n",
        "- Review Rate = 4\n",
        "- instant_bookable = Y\n",
        "- Service fee = Variable\n",
        "- Host Identity = verified"
      ]
    },
    {
      "cell_type": "code",
      "execution_count": null,
      "id": "4733f9c4-caba-4c39-8d93-7609987a79ed",
      "metadata": {
        "tags": [],
        "id": "4733f9c4-caba-4c39-8d93-7609987a79ed",
        "outputId": "e1920aa6-092c-4757-e0e0-34a1088f0c33"
      },
      "outputs": [
        {
          "name": "stderr",
          "output_type": "stream",
          "text": [
            "Query complete after 0.00s: 100%|██████████| 1/1 [00:00<00:00, 261.43query/s]                          \n",
            "Downloading: 100%|██████████| 5/5 [00:01<00:00,  3.75rows/s]\n"
          ]
        },
        {
          "data": {
            "text/html": [
              "<div>\n",
              "<style scoped>\n",
              "    .dataframe tbody tr th:only-of-type {\n",
              "        vertical-align: middle;\n",
              "    }\n",
              "\n",
              "    .dataframe tbody tr th {\n",
              "        vertical-align: top;\n",
              "    }\n",
              "\n",
              "    .dataframe thead th {\n",
              "        text-align: right;\n",
              "    }\n",
              "</style>\n",
              "<table border=\"1\" class=\"dataframe\">\n",
              "  <thead>\n",
              "    <tr style=\"text-align: right;\">\n",
              "      <th></th>\n",
              "      <th>name</th>\n",
              "      <th>host_name</th>\n",
              "      <th>host_identity_verified</th>\n",
              "      <th>service_fee</th>\n",
              "      <th>price</th>\n",
              "      <th>room_type</th>\n",
              "      <th>review_rate_number</th>\n",
              "      <th>neighbourhood_group</th>\n",
              "      <th>neighbourhood</th>\n",
              "    </tr>\n",
              "  </thead>\n",
              "  <tbody>\n",
              "    <tr>\n",
              "      <th>0</th>\n",
              "      <td>1BR GARDEN APT 25 MIN TO MANHATTAN</td>\n",
              "      <td>Anna</td>\n",
              "      <td>verified</td>\n",
              "      <td>240</td>\n",
              "      <td>1200</td>\n",
              "      <td>Entire home/apt</td>\n",
              "      <td>4</td>\n",
              "      <td>Brooklyn</td>\n",
              "      <td>East Flatbush</td>\n",
              "    </tr>\n",
              "    <tr>\n",
              "      <th>1</th>\n",
              "      <td>Enjoy a comfy apartment on the UWS</td>\n",
              "      <td>Gat</td>\n",
              "      <td>verified</td>\n",
              "      <td>240</td>\n",
              "      <td>1199</td>\n",
              "      <td>Entire home/apt</td>\n",
              "      <td>4</td>\n",
              "      <td>Manhattan</td>\n",
              "      <td>Upper West Side</td>\n",
              "    </tr>\n",
              "    <tr>\n",
              "      <th>2</th>\n",
              "      <td>Cute apartment with 2 big bedrooms</td>\n",
              "      <td>Walther</td>\n",
              "      <td>verified</td>\n",
              "      <td>239</td>\n",
              "      <td>1197</td>\n",
              "      <td>Entire home/apt</td>\n",
              "      <td>4</td>\n",
              "      <td>Queens</td>\n",
              "      <td>Long Island City</td>\n",
              "    </tr>\n",
              "    <tr>\n",
              "      <th>3</th>\n",
              "      <td>Cosy 2 bed, Gramercy, NYC Apartment</td>\n",
              "      <td>Charlie</td>\n",
              "      <td>verified</td>\n",
              "      <td>239</td>\n",
              "      <td>1197</td>\n",
              "      <td>Entire home/apt</td>\n",
              "      <td>4</td>\n",
              "      <td>Manhattan</td>\n",
              "      <td>Civic Center</td>\n",
              "    </tr>\n",
              "    <tr>\n",
              "      <th>4</th>\n",
              "      <td>Cozy apt next to park &amp; train for 4</td>\n",
              "      <td>Aubrey</td>\n",
              "      <td>verified</td>\n",
              "      <td>239</td>\n",
              "      <td>1196</td>\n",
              "      <td>Entire home/apt</td>\n",
              "      <td>4</td>\n",
              "      <td>Brooklyn</td>\n",
              "      <td>Prospect-Lefferts Gardens</td>\n",
              "    </tr>\n",
              "  </tbody>\n",
              "</table>\n",
              "</div>"
            ],
            "text/plain": [
              "                                  name host_name host_identity_verified  \\\n",
              "0   1BR GARDEN APT 25 MIN TO MANHATTAN      Anna               verified   \n",
              "1   Enjoy a comfy apartment on the UWS       Gat               verified   \n",
              "2   Cute apartment with 2 big bedrooms   Walther               verified   \n",
              "3  Cosy 2 bed, Gramercy, NYC Apartment   Charlie               verified   \n",
              "4  Cozy apt next to park & train for 4    Aubrey               verified   \n",
              "\n",
              "   service_fee  price        room_type  review_rate_number  \\\n",
              "0          240   1200  Entire home/apt                   4   \n",
              "1          240   1199  Entire home/apt                   4   \n",
              "2          239   1197  Entire home/apt                   4   \n",
              "3          239   1197  Entire home/apt                   4   \n",
              "4          239   1196  Entire home/apt                   4   \n",
              "\n",
              "  neighbourhood_group              neighbourhood  \n",
              "0            Brooklyn              East Flatbush  \n",
              "1           Manhattan            Upper West Side  \n",
              "2              Queens           Long Island City  \n",
              "3           Manhattan               Civic Center  \n",
              "4            Brooklyn  Prospect-Lefferts Gardens  "
            ]
          },
          "execution_count": 6,
          "metadata": {},
          "output_type": "execute_result"
        }
      ],
      "source": [
        "%%bigquery\n",
        "SELECT \n",
        "name,host_name,host_identity_verified,service_fee,\n",
        "price,room_type,\n",
        "review_rate_number, \n",
        "neighbourhood_group,\n",
        "neighbourhood\n",
        "FROM `ba775-team6.Airbnb_Newyork.bnb1` \n",
        "WHERE room_type = \"Entire home/apt\"\n",
        "AND review_rate_number = 4\n",
        "AND host_identity_verified = \"verified\"\n",
        "ORDER BY price DESC \n",
        "LIMIT 5 "
      ]
    },
    {
      "cell_type": "markdown",
      "id": "6c949ada-cf6c-4bd3-a165-a5a15004e36b",
      "metadata": {
        "id": "6c949ada-cf6c-4bd3-a165-a5a15004e36b"
      },
      "source": [
        "Therefore the most preferred ideal property in NewYork with MAX Price is \"1BR GARDEN APT 25 MIN TO MANHATTAN\" with listing cost as 1200 USD - \"Entire home/apt and 4 star rating\n",
        "\n",
        "Hence :-  In New York the top most expensive valuable property is -\n",
        "\n",
        "* located in Brooklyn\n",
        "*  named as '1BR GARDEN APT 25 MIN TO MANHATTAN'\n",
        "*  Owned by Anna\n",
        "* with Price 1200 USD\n",
        "* having rating as 4\n",
        "\n",
        "One interesting finding - although this listing located in Brooklyn, its title highlights the distance to Manhattan. From this kind of host behavior, we can intepret that the host use Manhattan to increase its click-through rate of listing as the listing will be labeled with both Manhattan and Brooklyn. \n",
        "\n",
        "So it will be a great attraction for vistors who want to live near the center of the City since Manhattan serves as NYC's business center while Brooklyn is the geographic center of NYC."
      ]
    },
    {
      "cell_type": "markdown",
      "id": "9493f622-2ebb-44b4-8c83-11be462f63b6",
      "metadata": {
        "id": "9493f622-2ebb-44b4-8c83-11be462f63b6"
      },
      "source": [
        "![idea%20top%20price.png](attachment:idea%20top%20price.png)"
      ]
    },
    {
      "cell_type": "markdown",
      "id": "d16145a9-e988-497f-8372-82df27d9e249",
      "metadata": {
        "id": "d16145a9-e988-497f-8372-82df27d9e249"
      },
      "source": [
        "Considering this case, we can draw a word cloud on listing name to explore how host personalized their name and see if any word is used frequently"
      ]
    },
    {
      "cell_type": "code",
      "execution_count": null,
      "id": "2425d318-1fb9-4393-b10a-c8e66d670b93",
      "metadata": {
        "id": "2425d318-1fb9-4393-b10a-c8e66d670b93",
        "outputId": "636e21dc-fb3c-4e6e-89d5-a7d6f75ee0a7"
      },
      "outputs": [
        {
          "name": "stderr",
          "output_type": "stream",
          "text": [
            "Query complete after 0.00s: 100%|██████████| 1/1 [00:00<00:00, 1268.69query/s]\n",
            "Downloading: 100%|██████████| 5/5 [00:01<00:00,  3.80rows/s]\n"
          ]
        },
        {
          "data": {
            "text/html": [
              "<div>\n",
              "<style scoped>\n",
              "    .dataframe tbody tr th:only-of-type {\n",
              "        vertical-align: middle;\n",
              "    }\n",
              "\n",
              "    .dataframe tbody tr th {\n",
              "        vertical-align: top;\n",
              "    }\n",
              "\n",
              "    .dataframe thead th {\n",
              "        text-align: right;\n",
              "    }\n",
              "</style>\n",
              "<table border=\"1\" class=\"dataframe\">\n",
              "  <thead>\n",
              "    <tr style=\"text-align: right;\">\n",
              "      <th></th>\n",
              "      <th>name</th>\n",
              "    </tr>\n",
              "  </thead>\n",
              "  <tbody>\n",
              "    <tr>\n",
              "      <th>0</th>\n",
              "      <td>Two bedroom in Prime East Village</td>\n",
              "    </tr>\n",
              "    <tr>\n",
              "      <th>1</th>\n",
              "      <td>Peaceful Artist Bedroomâ€”Just 30 Min to Manha...</td>\n",
              "    </tr>\n",
              "    <tr>\n",
              "      <th>2</th>\n",
              "      <td>Studio next to Washington Sq Park</td>\n",
              "    </tr>\n",
              "    <tr>\n",
              "      <th>3</th>\n",
              "      <td>Modern comfort in art infused landmark Brownstone</td>\n",
              "    </tr>\n",
              "    <tr>\n",
              "      <th>4</th>\n",
              "      <td>Upper East Side 1-Bedroom</td>\n",
              "    </tr>\n",
              "  </tbody>\n",
              "</table>\n",
              "</div>"
            ],
            "text/plain": [
              "                                                name\n",
              "0                  Two bedroom in Prime East Village\n",
              "1  Peaceful Artist Bedroomâ€”Just 30 Min to Manha...\n",
              "2                  Studio next to Washington Sq Park\n",
              "3  Modern comfort in art infused landmark Brownstone\n",
              "4                          Upper East Side 1-Bedroom"
            ]
          },
          "execution_count": 55,
          "metadata": {},
          "output_type": "execute_result"
        }
      ],
      "source": [
        "%%bigquery \n",
        "SELECT name\n",
        "FROM `ba775-team6.Airbnb_Newyork.bnb1`\n",
        "WHERE review_rate_number = 5\n",
        "LIMIT 5"
      ]
    },
    {
      "cell_type": "markdown",
      "id": "7c2a56b3-4d1f-466a-88d0-dcbba3068f53",
      "metadata": {
        "id": "7c2a56b3-4d1f-466a-88d0-dcbba3068f53"
      },
      "source": [
        "![3.png](attachment:3.png)"
      ]
    },
    {
      "cell_type": "markdown",
      "id": "ac8efd0a-0b9a-48a5-b309-33a2bdc43353",
      "metadata": {
        "id": "ac8efd0a-0b9a-48a5-b309-33a2bdc43353"
      },
      "source": [
        "According to the word cloud, we can see that Brooklyn, central, manhattan, Williamsburg, east are in high frequency. So host can use location as a keyword to attract users to click through the listings search. \n",
        "\n",
        "In addition to location, we can also obtain some other patterns from this word cloud. For example, a host can also highlight feature of his listing's fitment by using words like 'bath','roof'and 'garden'. Type of house can also a feature for host to highlight in the listing's name in order to attract traveler with different room type preference, such as 'loft', 'apt', 'private‘, spacious and 'luxury'. Emotional connection is also a strategy that can be usesd for host in personlizing listing's name. For example, host can use word like 'cozy', 'sunny', 'charming' and 'elegant' to attract travelers who seeking an unique living style. "
      ]
    },
    {
      "cell_type": "markdown",
      "id": "d822defc-6230-436f-8ec6-54e15bbbd746",
      "metadata": {
        "jp-MarkdownHeadingCollapsed": true,
        "tags": [],
        "id": "d822defc-6230-436f-8ec6-54e15bbbd746"
      },
      "source": [
        "## 4. Conclusion\n",
        "Based on our analysis, which focuses on Airbnb host performance in New York city, we make some conclusions, which in turn should provide insight on improvement on host performance:\n",
        "   \n",
        "1. The names of listings could play an important role in getting more attraction and guests. Take, a listing located in Brooklyn, as an example, highlighting the distance to Manhattan in listings name might help to attract more customers, as Manhattan is the center providing various activities in New York city. \n",
        "\n",
        "2. Host verification could be crucial in gaining more guests and higher bookings rate in that guests might consider the safety level is higher when the host is verified.\n",
        "\n",
        "3. Having a laundry and kitchen facility improves guests’ experience and subsequently the listing’s review rate. \n",
        "\n",
        "4. Hosts of shared rooms should notice that listings in this type are usually higher than or lower than average. This is not to say that hosts should intentionally manipulate the price without any other strategies, but it might be better for them to make prices accordingly: if the listing has a much higher-than-average price, which is a price able to attract customers, the listing should be equipped with corresponding amenities. And vice versa, for hosts who do not intend to significantly increase the guests’ living experience, perhaps they should price the listings lower than average.\n",
        "\n",
        "5. As mentioned earlier in one of our project subsections, regardless of the required minimum number of nights to stay, listings with flexible cancellation policy have less availability. Therefore, hosts could make their cancellation policy more flexible if situations allow. Furthermore, listings with either flexible or strict cancellation policy are more popular within the same category (min_length_of_stay = ‘Long’). It would become an unsurprising finding when we combine these listings’ average review rate score, which indicates that when the required length of stay is long, guests would start to weigh more on listings’ review rate.\n"
      ]
    },
    {
      "cell_type": "markdown",
      "id": "15f38660-3f8e-41cd-9d94-d2c09f1efa23",
      "metadata": {
        "jp-MarkdownHeadingCollapsed": true,
        "tags": [],
        "id": "15f38660-3f8e-41cd-9d94-d2c09f1efa23"
      },
      "source": [
        "## 5. Limitation\n",
        "If time is not limited, we might be able to use machine learning techniques such as Natural Language Processing to capture preferable patterns for naming listings or formatting house rules.\n",
        "\n",
        "To gather more insight on how to improve host performance, we could have joined other datasets as well. For instance, transportation, air quality, and criminal records in different neighbourhoods or areas can all contribute to the popularity of a listing. These could be all become valuable inputs for any further analysis.\n",
        "\n",
        "As our data is limited and the data source does not give a column for the number of transactions per Airbnb, we can only extrapolate from the number of reviews, so errors may occur."
      ]
    },
    {
      "cell_type": "markdown",
      "id": "ba39fbdb-660e-4f7b-b479-724f51e33582",
      "metadata": {
        "jp-MarkdownHeadingCollapsed": true,
        "tags": [],
        "id": "ba39fbdb-660e-4f7b-b479-724f51e33582"
      },
      "source": [
        "## 6. Dashboard"
      ]
    },
    {
      "cell_type": "code",
      "execution_count": null,
      "id": "72f54965-a421-44a6-99c6-aacaa5aa8099",
      "metadata": {
        "id": "72f54965-a421-44a6-99c6-aacaa5aa8099",
        "outputId": "f594998f-13c8-4bd4-ddc7-cbf5964396f6"
      },
      "outputs": [
        {
          "data": {
            "text/html": [
              "<a href=\"https://public.tableau.com/app/profile/prateek.naharia/viz/FactorsAffectingAIRBNBListingInNewYorkCity/NYC_AIRBNB\">Tableau Dashboard Airbnb NYC</a>\n"
            ],
            "text/plain": [
              "<IPython.core.display.HTML object>"
            ]
          },
          "metadata": {},
          "output_type": "display_data"
        }
      ],
      "source": [
        "%%html\n",
        "<a href=\"https://public.tableau.com/app/profile/prateek.naharia/viz/FactorsAffectingAIRBNBListingInNewYorkCity/NYC_AIRBNB\">Tableau Dashboard Airbnb NYC</a>\n"
      ]
    },
    {
      "cell_type": "markdown",
      "id": "6cc6c7bf-cccb-4251-8d5f-3273a77bdb58",
      "metadata": {
        "id": "6cc6c7bf-cccb-4251-8d5f-3273a77bdb58"
      },
      "source": [
        "Dashboard Link : https://public.tableau.com/app/profile/prateek.naharia/viz/FactorsAffectingAIRBNBListingInNewYorkCity/NYC_AIRBNB"
      ]
    },
    {
      "cell_type": "markdown",
      "id": "0b1e6afa-e725-4ec3-a85f-880861db5536",
      "metadata": {
        "id": "0b1e6afa-e725-4ec3-a85f-880861db5536"
      },
      "source": [
        "![dashboard.png](attachment:dashboard.png)"
      ]
    },
    {
      "cell_type": "markdown",
      "id": "5a1f591a-e38f-4fb2-a28b-916db8050b79",
      "metadata": {
        "id": "5a1f591a-e38f-4fb2-a28b-916db8050b79"
      },
      "source": [
        "## 7. Citation\n",
        "Shirely Chen. How to Analyze Airbnb Performance Data in the Right Way. \"https://medium.com/analytics-vidhya/how-to-analyze-airbnb-performance-data-in-the-right-way-b83f3dad1458\"\n",
        "\n",
        "BnB Facts. \"https://bnbfacts.com/how-instant-book-works-on-airbnb/\"\n",
        "\n",
        "Airbnb Help Center. \"https://www.airbnb.com/help/all-topics?audience=home_host\"\n",
        "\n",
        "Airbnb Public Dataset. \"insideairbnb.com/new-york-city/\"\n",
        "\n",
        "Google Cloud. \"https://cloud.google.com/bigquery/docs/reference/standard-sql/aggregate_functions\"\n",
        "\n",
        "GeeksforGeeks. \"https://www.geeksforgeeks.org/insert-image-in-a-jupyter-notebook/\""
      ]
    }
  ],
  "metadata": {
    "environment": {
      "kernel": "python3",
      "name": "common-cpu.m97",
      "type": "gcloud",
      "uri": "gcr.io/deeplearning-platform-release/base-cpu:m97"
    },
    "kernelspec": {
      "display_name": "Python 3 (ipykernel)",
      "language": "python",
      "name": "python3"
    },
    "language_info": {
      "codemirror_mode": {
        "name": "ipython",
        "version": 3
      },
      "file_extension": ".py",
      "mimetype": "text/x-python",
      "name": "python",
      "nbconvert_exporter": "python",
      "pygments_lexer": "ipython3",
      "version": "3.9.12"
    },
    "toc-showcode": false,
    "toc-showmarkdowntxt": false,
    "colab": {
      "provenance": []
    }
  },
  "nbformat": 4,
  "nbformat_minor": 5
}